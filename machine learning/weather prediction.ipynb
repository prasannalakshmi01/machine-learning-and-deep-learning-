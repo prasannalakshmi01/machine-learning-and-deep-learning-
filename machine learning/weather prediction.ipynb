{
 "cells": [
  {
   "cell_type": "code",
   "execution_count": null,
   "id": "1b3e298d",
   "metadata": {},
   "outputs": [],
   "source": [
    "def create_table3(tb1, tb2):\n",
    "    table3 = pd.DataFrame(columns=['CustomerNum'])\n",
    "    i = 0\n",
    "    j = 0\n",
    "    while i < len(tb1) and j < len(tb2):\n",
    "        for k in range(3):\n",
    "            if i < len(tb1):\n",
    "                table3 = table3.append({'CustomerNum': tb1.iloc[i]['CustomerNum']}, ignore_index=True)\n",
    "                i += 1\n",
    "        for k in range(4):\n",
    "            if j < len(tb2):\n",
    "                table3 = table3.append({'CustomerNum': tb1.iloc[j]['CustomerNum']}, ignore_index=True)\n",
    "                j+=1\n",
    "    return table3"
   ]
  },
  {
   "cell_type": "code",
   "execution_count": 1,
   "id": "ee3749ee",
   "metadata": {},
   "outputs": [],
   "source": [
    "import numpy as np\n",
    "import pandas as pd\n",
    "import matplotlib.pyplot as plt\n",
    "import seaborn as sns\n",
    "import missingno as msno\n",
    "import warnings\n",
    "warnings.filterwarnings('ignore')\n",
    "\n",
    "from IPython.core.interactiveshell import InteractiveShell\n",
    "InteractiveShell.ast_node_interactivity='all'"
   ]
  },
  {
   "cell_type": "code",
   "execution_count": 2,
   "id": "58d62562",
   "metadata": {},
   "outputs": [],
   "source": [
    "weather_df = pd.read_csv(r'C:\\Datasets\\weather_data.csv',na_values=' ')"
   ]
  },
  {
   "cell_type": "code",
   "execution_count": 3,
   "id": "2521491b",
   "metadata": {},
   "outputs": [
    {
     "data": {
      "text/html": [
       "<div>\n",
       "<style scoped>\n",
       "    .dataframe tbody tr th:only-of-type {\n",
       "        vertical-align: middle;\n",
       "    }\n",
       "\n",
       "    .dataframe tbody tr th {\n",
       "        vertical-align: top;\n",
       "    }\n",
       "\n",
       "    .dataframe thead th {\n",
       "        text-align: right;\n",
       "    }\n",
       "</style>\n",
       "<table border=\"1\" class=\"dataframe\">\n",
       "  <thead>\n",
       "    <tr style=\"text-align: right;\">\n",
       "      <th></th>\n",
       "      <th>Formatted Date</th>\n",
       "      <th>Summary</th>\n",
       "      <th>Precip Type</th>\n",
       "      <th>Temperature (C)</th>\n",
       "      <th>Apparent Temperature (C)</th>\n",
       "      <th>Humidity</th>\n",
       "      <th>Wind Speed (km/h)</th>\n",
       "      <th>Wind Bearing (degrees)</th>\n",
       "      <th>Visibility (km)</th>\n",
       "      <th>Loud Cover</th>\n",
       "      <th>Pressure (millibars)</th>\n",
       "      <th>Daily Summary</th>\n",
       "    </tr>\n",
       "  </thead>\n",
       "  <tbody>\n",
       "    <tr>\n",
       "      <th>0</th>\n",
       "      <td>2006-04-01 00:00:00.000 +0200</td>\n",
       "      <td>Partly Cloudy</td>\n",
       "      <td>rain</td>\n",
       "      <td>9.472222</td>\n",
       "      <td>7.388889</td>\n",
       "      <td>0.89</td>\n",
       "      <td>14.1197</td>\n",
       "      <td>251</td>\n",
       "      <td>15.8263</td>\n",
       "      <td>0</td>\n",
       "      <td>1015.13</td>\n",
       "      <td>Partly cloudy throughout the day.</td>\n",
       "    </tr>\n",
       "    <tr>\n",
       "      <th>1</th>\n",
       "      <td>2006-04-01 01:00:00.000 +0200</td>\n",
       "      <td>Partly Cloudy</td>\n",
       "      <td>rain</td>\n",
       "      <td>9.355556</td>\n",
       "      <td>7.227778</td>\n",
       "      <td>0.86</td>\n",
       "      <td>14.2646</td>\n",
       "      <td>259</td>\n",
       "      <td>15.8263</td>\n",
       "      <td>0</td>\n",
       "      <td>1015.63</td>\n",
       "      <td>Partly cloudy throughout the day.</td>\n",
       "    </tr>\n",
       "    <tr>\n",
       "      <th>2</th>\n",
       "      <td>2006-04-01 02:00:00.000 +0200</td>\n",
       "      <td>Mostly Cloudy</td>\n",
       "      <td>rain</td>\n",
       "      <td>9.377778</td>\n",
       "      <td>9.377778</td>\n",
       "      <td>0.89</td>\n",
       "      <td>3.9284</td>\n",
       "      <td>204</td>\n",
       "      <td>14.9569</td>\n",
       "      <td>0</td>\n",
       "      <td>1015.94</td>\n",
       "      <td>Partly cloudy throughout the day.</td>\n",
       "    </tr>\n",
       "    <tr>\n",
       "      <th>3</th>\n",
       "      <td>2006-04-01 03:00:00.000 +0200</td>\n",
       "      <td>Partly Cloudy</td>\n",
       "      <td>rain</td>\n",
       "      <td>8.288889</td>\n",
       "      <td>5.944444</td>\n",
       "      <td>0.83</td>\n",
       "      <td>14.1036</td>\n",
       "      <td>269</td>\n",
       "      <td>15.8263</td>\n",
       "      <td>0</td>\n",
       "      <td>1016.41</td>\n",
       "      <td>Partly cloudy throughout the day.</td>\n",
       "    </tr>\n",
       "    <tr>\n",
       "      <th>4</th>\n",
       "      <td>2006-04-01 04:00:00.000 +0200</td>\n",
       "      <td>Mostly Cloudy</td>\n",
       "      <td>rain</td>\n",
       "      <td>8.755556</td>\n",
       "      <td>6.977778</td>\n",
       "      <td>0.83</td>\n",
       "      <td>11.0446</td>\n",
       "      <td>259</td>\n",
       "      <td>15.8263</td>\n",
       "      <td>0</td>\n",
       "      <td>1016.51</td>\n",
       "      <td>Partly cloudy throughout the day.</td>\n",
       "    </tr>\n",
       "    <tr>\n",
       "      <th>...</th>\n",
       "      <td>...</td>\n",
       "      <td>...</td>\n",
       "      <td>...</td>\n",
       "      <td>...</td>\n",
       "      <td>...</td>\n",
       "      <td>...</td>\n",
       "      <td>...</td>\n",
       "      <td>...</td>\n",
       "      <td>...</td>\n",
       "      <td>...</td>\n",
       "      <td>...</td>\n",
       "      <td>...</td>\n",
       "    </tr>\n",
       "    <tr>\n",
       "      <th>5994</th>\n",
       "      <td>2006-05-15 19:00:00.000 +0200</td>\n",
       "      <td>Partly Cloudy</td>\n",
       "      <td>rain</td>\n",
       "      <td>19.094444</td>\n",
       "      <td>19.094444</td>\n",
       "      <td>0.60</td>\n",
       "      <td>6.9391</td>\n",
       "      <td>350</td>\n",
       "      <td>11.2056</td>\n",
       "      <td>0</td>\n",
       "      <td>1020.07</td>\n",
       "      <td>Partly cloudy until night.</td>\n",
       "    </tr>\n",
       "    <tr>\n",
       "      <th>5995</th>\n",
       "      <td>2006-05-15 20:00:00.000 +0200</td>\n",
       "      <td>Partly Cloudy</td>\n",
       "      <td>rain</td>\n",
       "      <td>17.655556</td>\n",
       "      <td>17.655556</td>\n",
       "      <td>0.62</td>\n",
       "      <td>1.6100</td>\n",
       "      <td>56</td>\n",
       "      <td>10.3523</td>\n",
       "      <td>0</td>\n",
       "      <td>1020.44</td>\n",
       "      <td>Partly cloudy until night.</td>\n",
       "    </tr>\n",
       "    <tr>\n",
       "      <th>5996</th>\n",
       "      <td>2006-05-15 21:00:00.000 +0200</td>\n",
       "      <td>Partly Cloudy</td>\n",
       "      <td>rain</td>\n",
       "      <td>15.072222</td>\n",
       "      <td>15.072222</td>\n",
       "      <td>0.78</td>\n",
       "      <td>1.9481</td>\n",
       "      <td>170</td>\n",
       "      <td>9.9820</td>\n",
       "      <td>0</td>\n",
       "      <td>1020.99</td>\n",
       "      <td>Partly cloudy until night.</td>\n",
       "    </tr>\n",
       "    <tr>\n",
       "      <th>5997</th>\n",
       "      <td>2006-05-15 22:00:00.000 +0200</td>\n",
       "      <td>Partly Cloudy</td>\n",
       "      <td>rain</td>\n",
       "      <td>13.405556</td>\n",
       "      <td>13.405556</td>\n",
       "      <td>0.83</td>\n",
       "      <td>3.1073</td>\n",
       "      <td>201</td>\n",
       "      <td>15.8263</td>\n",
       "      <td>0</td>\n",
       "      <td>1021.50</td>\n",
       "      <td>Partly cloudy until night.</td>\n",
       "    </tr>\n",
       "    <tr>\n",
       "      <th>5998</th>\n",
       "      <td>2006-05-15 23:00:00.000 +0200</td>\n",
       "      <td>Clear</td>\n",
       "      <td>rain</td>\n",
       "      <td>12.927778</td>\n",
       "      <td>12.927778</td>\n",
       "      <td>0.90</td>\n",
       "      <td>2.7531</td>\n",
       "      <td>191</td>\n",
       "      <td>14.9569</td>\n",
       "      <td>0</td>\n",
       "      <td>1021.64</td>\n",
       "      <td>Partly cloudy until night.</td>\n",
       "    </tr>\n",
       "  </tbody>\n",
       "</table>\n",
       "<p>5999 rows × 12 columns</p>\n",
       "</div>"
      ],
      "text/plain": [
       "                     Formatted Date        Summary Precip Type  \\\n",
       "0     2006-04-01 00:00:00.000 +0200  Partly Cloudy        rain   \n",
       "1     2006-04-01 01:00:00.000 +0200  Partly Cloudy        rain   \n",
       "2     2006-04-01 02:00:00.000 +0200  Mostly Cloudy        rain   \n",
       "3     2006-04-01 03:00:00.000 +0200  Partly Cloudy        rain   \n",
       "4     2006-04-01 04:00:00.000 +0200  Mostly Cloudy        rain   \n",
       "...                             ...            ...         ...   \n",
       "5994  2006-05-15 19:00:00.000 +0200  Partly Cloudy        rain   \n",
       "5995  2006-05-15 20:00:00.000 +0200  Partly Cloudy        rain   \n",
       "5996  2006-05-15 21:00:00.000 +0200  Partly Cloudy        rain   \n",
       "5997  2006-05-15 22:00:00.000 +0200  Partly Cloudy        rain   \n",
       "5998  2006-05-15 23:00:00.000 +0200          Clear        rain   \n",
       "\n",
       "      Temperature (C)  Apparent Temperature (C)  Humidity  Wind Speed (km/h)  \\\n",
       "0            9.472222                  7.388889      0.89            14.1197   \n",
       "1            9.355556                  7.227778      0.86            14.2646   \n",
       "2            9.377778                  9.377778      0.89             3.9284   \n",
       "3            8.288889                  5.944444      0.83            14.1036   \n",
       "4            8.755556                  6.977778      0.83            11.0446   \n",
       "...               ...                       ...       ...                ...   \n",
       "5994        19.094444                 19.094444      0.60             6.9391   \n",
       "5995        17.655556                 17.655556      0.62             1.6100   \n",
       "5996        15.072222                 15.072222      0.78             1.9481   \n",
       "5997        13.405556                 13.405556      0.83             3.1073   \n",
       "5998        12.927778                 12.927778      0.90             2.7531   \n",
       "\n",
       "      Wind Bearing (degrees)  Visibility (km)  Loud Cover  \\\n",
       "0                        251          15.8263           0   \n",
       "1                        259          15.8263           0   \n",
       "2                        204          14.9569           0   \n",
       "3                        269          15.8263           0   \n",
       "4                        259          15.8263           0   \n",
       "...                      ...              ...         ...   \n",
       "5994                     350          11.2056           0   \n",
       "5995                      56          10.3523           0   \n",
       "5996                     170           9.9820           0   \n",
       "5997                     201          15.8263           0   \n",
       "5998                     191          14.9569           0   \n",
       "\n",
       "      Pressure (millibars)                      Daily Summary  \n",
       "0                  1015.13  Partly cloudy throughout the day.  \n",
       "1                  1015.63  Partly cloudy throughout the day.  \n",
       "2                  1015.94  Partly cloudy throughout the day.  \n",
       "3                  1016.41  Partly cloudy throughout the day.  \n",
       "4                  1016.51  Partly cloudy throughout the day.  \n",
       "...                    ...                                ...  \n",
       "5994               1020.07         Partly cloudy until night.  \n",
       "5995               1020.44         Partly cloudy until night.  \n",
       "5996               1020.99         Partly cloudy until night.  \n",
       "5997               1021.50         Partly cloudy until night.  \n",
       "5998               1021.64         Partly cloudy until night.  \n",
       "\n",
       "[5999 rows x 12 columns]"
      ]
     },
     "execution_count": 3,
     "metadata": {},
     "output_type": "execute_result"
    }
   ],
   "source": [
    "weather_df"
   ]
  },
  {
   "cell_type": "code",
   "execution_count": 4,
   "id": "a628db0a",
   "metadata": {},
   "outputs": [
    {
     "data": {
      "text/plain": [
       "(5999, 12)"
      ]
     },
     "execution_count": 4,
     "metadata": {},
     "output_type": "execute_result"
    }
   ],
   "source": [
    "weather_df.shape"
   ]
  },
  {
   "cell_type": "code",
   "execution_count": 5,
   "id": "2bcfed6e",
   "metadata": {},
   "outputs": [
    {
     "name": "stdout",
     "output_type": "stream",
     "text": [
      "<class 'pandas.core.frame.DataFrame'>\n",
      "RangeIndex: 5999 entries, 0 to 5998\n",
      "Data columns (total 12 columns):\n",
      " #   Column                    Non-Null Count  Dtype  \n",
      "---  ------                    --------------  -----  \n",
      " 0   Formatted Date            5999 non-null   object \n",
      " 1   Summary                   5999 non-null   object \n",
      " 2   Precip Type               5999 non-null   object \n",
      " 3   Temperature (C)           5999 non-null   float64\n",
      " 4   Apparent Temperature (C)  5999 non-null   float64\n",
      " 5   Humidity                  5999 non-null   float64\n",
      " 6   Wind Speed (km/h)         5999 non-null   float64\n",
      " 7   Wind Bearing (degrees)    5999 non-null   int64  \n",
      " 8   Visibility (km)           5999 non-null   float64\n",
      " 9   Loud Cover                5999 non-null   int64  \n",
      " 10  Pressure (millibars)      5999 non-null   float64\n",
      " 11  Daily Summary             5999 non-null   object \n",
      "dtypes: float64(6), int64(2), object(4)\n",
      "memory usage: 562.5+ KB\n"
     ]
    }
   ],
   "source": [
    "weather_df.info()"
   ]
  },
  {
   "cell_type": "code",
   "execution_count": 6,
   "id": "9840f7ed",
   "metadata": {},
   "outputs": [
    {
     "data": {
      "text/plain": [
       "<AxesSubplot:>"
      ]
     },
     "execution_count": 6,
     "metadata": {},
     "output_type": "execute_result"
    },
    {
     "data": {
      "image/png": "[encoded data removed]",
      "text/plain": [
       "<Figure size 2500x1000 with 2 Axes>"
      ]
     },
     "metadata": {},
     "output_type": "display_data"
    }
   ],
   "source": [
    "msno.matrix(weather_df)"
   ]
  },
  {
   "cell_type": "markdown",
   "id": "eee5e3b7",
   "metadata": {},
   "source": [
    "Here,we can see there are no null values"
   ]
  },
  {
   "cell_type": "code",
   "execution_count": 7,
   "id": "947cb21d",
   "metadata": {},
   "outputs": [
    {
     "data": {
      "text/plain": [
       "Formatted Date              0\n",
       "Summary                     0\n",
       "Precip Type                 0\n",
       "Temperature (C)             0\n",
       "Apparent Temperature (C)    0\n",
       "Humidity                    0\n",
       "Wind Speed (km/h)           0\n",
       "Wind Bearing (degrees)      0\n",
       "Visibility (km)             0\n",
       "Loud Cover                  0\n",
       "Pressure (millibars)        0\n",
       "Daily Summary               0\n",
       "dtype: int64"
      ]
     },
     "execution_count": 7,
     "metadata": {},
     "output_type": "execute_result"
    }
   ],
   "source": [
    "weather_df.isna().sum()"
   ]
  },
  {
   "cell_type": "code",
   "execution_count": 8,
   "id": "2470805d",
   "metadata": {},
   "outputs": [
    {
     "data": {
      "text/plain": [
       "0"
      ]
     },
     "execution_count": 8,
     "metadata": {},
     "output_type": "execute_result"
    }
   ],
   "source": [
    "weather_df.duplicated().sum()"
   ]
  },
  {
   "cell_type": "code",
   "execution_count": 9,
   "id": "e9fb1184",
   "metadata": {},
   "outputs": [],
   "source": [
    "weather_df['Formatted Date']=pd.to_datetime(weather_df['Formatted Date'],infer_datetime_format=True,utc=True)"
   ]
  },
  {
   "cell_type": "code",
   "execution_count": 10,
   "id": "57876b37",
   "metadata": {},
   "outputs": [
    {
     "data": {
      "text/html": [
       "<div>\n",
       "<style scoped>\n",
       "    .dataframe tbody tr th:only-of-type {\n",
       "        vertical-align: middle;\n",
       "    }\n",
       "\n",
       "    .dataframe tbody tr th {\n",
       "        vertical-align: top;\n",
       "    }\n",
       "\n",
       "    .dataframe thead th {\n",
       "        text-align: right;\n",
       "    }\n",
       "</style>\n",
       "<table border=\"1\" class=\"dataframe\">\n",
       "  <thead>\n",
       "    <tr style=\"text-align: right;\">\n",
       "      <th></th>\n",
       "      <th>Formatted Date</th>\n",
       "      <th>Summary</th>\n",
       "      <th>Precip Type</th>\n",
       "      <th>Temperature (C)</th>\n",
       "      <th>Apparent Temperature (C)</th>\n",
       "      <th>Humidity</th>\n",
       "      <th>Wind Speed (km/h)</th>\n",
       "      <th>Wind Bearing (degrees)</th>\n",
       "      <th>Visibility (km)</th>\n",
       "      <th>Loud Cover</th>\n",
       "      <th>Pressure (millibars)</th>\n",
       "      <th>Daily Summary</th>\n",
       "    </tr>\n",
       "  </thead>\n",
       "  <tbody>\n",
       "    <tr>\n",
       "      <th>0</th>\n",
       "      <td>2006-03-31 22:00:00+00:00</td>\n",
       "      <td>Partly Cloudy</td>\n",
       "      <td>rain</td>\n",
       "      <td>9.472222</td>\n",
       "      <td>7.388889</td>\n",
       "      <td>0.89</td>\n",
       "      <td>14.1197</td>\n",
       "      <td>251</td>\n",
       "      <td>15.8263</td>\n",
       "      <td>0</td>\n",
       "      <td>1015.13</td>\n",
       "      <td>Partly cloudy throughout the day.</td>\n",
       "    </tr>\n",
       "    <tr>\n",
       "      <th>1</th>\n",
       "      <td>2006-03-31 23:00:00+00:00</td>\n",
       "      <td>Partly Cloudy</td>\n",
       "      <td>rain</td>\n",
       "      <td>9.355556</td>\n",
       "      <td>7.227778</td>\n",
       "      <td>0.86</td>\n",
       "      <td>14.2646</td>\n",
       "      <td>259</td>\n",
       "      <td>15.8263</td>\n",
       "      <td>0</td>\n",
       "      <td>1015.63</td>\n",
       "      <td>Partly cloudy throughout the day.</td>\n",
       "    </tr>\n",
       "    <tr>\n",
       "      <th>2</th>\n",
       "      <td>2006-04-01 00:00:00+00:00</td>\n",
       "      <td>Mostly Cloudy</td>\n",
       "      <td>rain</td>\n",
       "      <td>9.377778</td>\n",
       "      <td>9.377778</td>\n",
       "      <td>0.89</td>\n",
       "      <td>3.9284</td>\n",
       "      <td>204</td>\n",
       "      <td>14.9569</td>\n",
       "      <td>0</td>\n",
       "      <td>1015.94</td>\n",
       "      <td>Partly cloudy throughout the day.</td>\n",
       "    </tr>\n",
       "    <tr>\n",
       "      <th>3</th>\n",
       "      <td>2006-04-01 01:00:00+00:00</td>\n",
       "      <td>Partly Cloudy</td>\n",
       "      <td>rain</td>\n",
       "      <td>8.288889</td>\n",
       "      <td>5.944444</td>\n",
       "      <td>0.83</td>\n",
       "      <td>14.1036</td>\n",
       "      <td>269</td>\n",
       "      <td>15.8263</td>\n",
       "      <td>0</td>\n",
       "      <td>1016.41</td>\n",
       "      <td>Partly cloudy throughout the day.</td>\n",
       "    </tr>\n",
       "    <tr>\n",
       "      <th>4</th>\n",
       "      <td>2006-04-01 02:00:00+00:00</td>\n",
       "      <td>Mostly Cloudy</td>\n",
       "      <td>rain</td>\n",
       "      <td>8.755556</td>\n",
       "      <td>6.977778</td>\n",
       "      <td>0.83</td>\n",
       "      <td>11.0446</td>\n",
       "      <td>259</td>\n",
       "      <td>15.8263</td>\n",
       "      <td>0</td>\n",
       "      <td>1016.51</td>\n",
       "      <td>Partly cloudy throughout the day.</td>\n",
       "    </tr>\n",
       "  </tbody>\n",
       "</table>\n",
       "</div>"
      ],
      "text/plain": [
       "             Formatted Date        Summary Precip Type  Temperature (C)  \\\n",
       "0 2006-03-31 22:00:00+00:00  Partly Cloudy        rain         9.472222   \n",
       "1 2006-03-31 23:00:00+00:00  Partly Cloudy        rain         9.355556   \n",
       "2 2006-04-01 00:00:00+00:00  Mostly Cloudy        rain         9.377778   \n",
       "3 2006-04-01 01:00:00+00:00  Partly Cloudy        rain         8.288889   \n",
       "4 2006-04-01 02:00:00+00:00  Mostly Cloudy        rain         8.755556   \n",
       "\n",
       "   Apparent Temperature (C)  Humidity  Wind Speed (km/h)  \\\n",
       "0                  7.388889      0.89            14.1197   \n",
       "1                  7.227778      0.86            14.2646   \n",
       "2                  9.377778      0.89             3.9284   \n",
       "3                  5.944444      0.83            14.1036   \n",
       "4                  6.977778      0.83            11.0446   \n",
       "\n",
       "   Wind Bearing (degrees)  Visibility (km)  Loud Cover  Pressure (millibars)  \\\n",
       "0                     251          15.8263           0               1015.13   \n",
       "1                     259          15.8263           0               1015.63   \n",
       "2                     204          14.9569           0               1015.94   \n",
       "3                     269          15.8263           0               1016.41   \n",
       "4                     259          15.8263           0               1016.51   \n",
       "\n",
       "                       Daily Summary  \n",
       "0  Partly cloudy throughout the day.  \n",
       "1  Partly cloudy throughout the day.  \n",
       "2  Partly cloudy throughout the day.  \n",
       "3  Partly cloudy throughout the day.  \n",
       "4  Partly cloudy throughout the day.  "
      ]
     },
     "execution_count": 10,
     "metadata": {},
     "output_type": "execute_result"
    }
   ],
   "source": [
    "weather_df.head()"
   ]
  },
  {
   "cell_type": "code",
   "execution_count": 11,
   "id": "a31461d7",
   "metadata": {},
   "outputs": [],
   "source": [
    "drop_list = [\"Loud Cover\",\"Daily Summary\"]"
   ]
  },
  {
   "cell_type": "code",
   "execution_count": 12,
   "id": "f285325d",
   "metadata": {},
   "outputs": [],
   "source": [
    "weather_df.drop(drop_list,axis=1,inplace=True)"
   ]
  },
  {
   "cell_type": "code",
   "execution_count": 13,
   "id": "9103b571",
   "metadata": {},
   "outputs": [
    {
     "name": "stdout",
     "output_type": "stream",
     "text": [
      "<class 'pandas.core.frame.DataFrame'>\n",
      "RangeIndex: 5999 entries, 0 to 5998\n",
      "Data columns (total 10 columns):\n",
      " #   Column                    Non-Null Count  Dtype              \n",
      "---  ------                    --------------  -----              \n",
      " 0   Formatted Date            5999 non-null   datetime64[ns, UTC]\n",
      " 1   Summary                   5999 non-null   object             \n",
      " 2   Precip Type               5999 non-null   object             \n",
      " 3   Temperature (C)           5999 non-null   float64            \n",
      " 4   Apparent Temperature (C)  5999 non-null   float64            \n",
      " 5   Humidity                  5999 non-null   float64            \n",
      " 6   Wind Speed (km/h)         5999 non-null   float64            \n",
      " 7   Wind Bearing (degrees)    5999 non-null   int64              \n",
      " 8   Visibility (km)           5999 non-null   float64            \n",
      " 9   Pressure (millibars)      5999 non-null   float64            \n",
      "dtypes: datetime64[ns, UTC](1), float64(6), int64(1), object(2)\n",
      "memory usage: 468.8+ KB\n"
     ]
    }
   ],
   "source": [
    "weather_df.info()"
   ]
  },
  {
   "cell_type": "code",
   "execution_count": 14,
   "id": "39ec2829",
   "metadata": {},
   "outputs": [
    {
     "data": {
      "text/html": [
       "<div>\n",
       "<style scoped>\n",
       "    .dataframe tbody tr th:only-of-type {\n",
       "        vertical-align: middle;\n",
       "    }\n",
       "\n",
       "    .dataframe tbody tr th {\n",
       "        vertical-align: top;\n",
       "    }\n",
       "\n",
       "    .dataframe thead th {\n",
       "        text-align: right;\n",
       "    }\n",
       "</style>\n",
       "<table border=\"1\" class=\"dataframe\">\n",
       "  <thead>\n",
       "    <tr style=\"text-align: right;\">\n",
       "      <th></th>\n",
       "      <th>count</th>\n",
       "      <th>mean</th>\n",
       "      <th>std</th>\n",
       "      <th>min</th>\n",
       "      <th>25%</th>\n",
       "      <th>50%</th>\n",
       "      <th>75%</th>\n",
       "      <th>max</th>\n",
       "    </tr>\n",
       "  </thead>\n",
       "  <tbody>\n",
       "    <tr>\n",
       "      <th>Temperature (C)</th>\n",
       "      <td>5999.0</td>\n",
       "      <td>10.217695</td>\n",
       "      <td>10.565425</td>\n",
       "      <td>-14.088889</td>\n",
       "      <td>1.094444</td>\n",
       "      <td>10.0500</td>\n",
       "      <td>18.722222</td>\n",
       "      <td>34.005556</td>\n",
       "    </tr>\n",
       "    <tr>\n",
       "      <th>Apparent Temperature (C)</th>\n",
       "      <td>5999.0</td>\n",
       "      <td>8.958658</td>\n",
       "      <td>11.923712</td>\n",
       "      <td>-22.094444</td>\n",
       "      <td>-1.538889</td>\n",
       "      <td>10.0500</td>\n",
       "      <td>18.722222</td>\n",
       "      <td>36.400000</td>\n",
       "    </tr>\n",
       "    <tr>\n",
       "      <th>Humidity</th>\n",
       "      <td>5999.0</td>\n",
       "      <td>0.779488</td>\n",
       "      <td>0.173051</td>\n",
       "      <td>0.270000</td>\n",
       "      <td>0.680000</td>\n",
       "      <td>0.8300</td>\n",
       "      <td>0.920000</td>\n",
       "      <td>1.000000</td>\n",
       "    </tr>\n",
       "    <tr>\n",
       "      <th>Wind Speed (km/h)</th>\n",
       "      <td>5999.0</td>\n",
       "      <td>10.007362</td>\n",
       "      <td>6.536619</td>\n",
       "      <td>0.000000</td>\n",
       "      <td>4.878300</td>\n",
       "      <td>9.0643</td>\n",
       "      <td>13.395200</td>\n",
       "      <td>45.933300</td>\n",
       "    </tr>\n",
       "    <tr>\n",
       "      <th>Wind Bearing (degrees)</th>\n",
       "      <td>5999.0</td>\n",
       "      <td>190.349558</td>\n",
       "      <td>107.026792</td>\n",
       "      <td>0.000000</td>\n",
       "      <td>122.000000</td>\n",
       "      <td>190.0000</td>\n",
       "      <td>287.000000</td>\n",
       "      <td>359.000000</td>\n",
       "    </tr>\n",
       "    <tr>\n",
       "      <th>Visibility (km)</th>\n",
       "      <td>5999.0</td>\n",
       "      <td>9.476875</td>\n",
       "      <td>4.038583</td>\n",
       "      <td>0.000000</td>\n",
       "      <td>6.906900</td>\n",
       "      <td>9.9820</td>\n",
       "      <td>11.270000</td>\n",
       "      <td>16.100000</td>\n",
       "    </tr>\n",
       "    <tr>\n",
       "      <th>Pressure (millibars)</th>\n",
       "      <td>5999.0</td>\n",
       "      <td>997.359828</td>\n",
       "      <td>145.173638</td>\n",
       "      <td>0.000000</td>\n",
       "      <td>1012.060000</td>\n",
       "      <td>1016.8400</td>\n",
       "      <td>1022.490000</td>\n",
       "      <td>1045.140000</td>\n",
       "    </tr>\n",
       "  </tbody>\n",
       "</table>\n",
       "</div>"
      ],
      "text/plain": [
       "                           count        mean         std        min  \\\n",
       "Temperature (C)           5999.0   10.217695   10.565425 -14.088889   \n",
       "Apparent Temperature (C)  5999.0    8.958658   11.923712 -22.094444   \n",
       "Humidity                  5999.0    0.779488    0.173051   0.270000   \n",
       "Wind Speed (km/h)         5999.0   10.007362    6.536619   0.000000   \n",
       "Wind Bearing (degrees)    5999.0  190.349558  107.026792   0.000000   \n",
       "Visibility (km)           5999.0    9.476875    4.038583   0.000000   \n",
       "Pressure (millibars)      5999.0  997.359828  145.173638   0.000000   \n",
       "\n",
       "                                  25%        50%          75%          max  \n",
       "Temperature (C)              1.094444    10.0500    18.722222    34.005556  \n",
       "Apparent Temperature (C)    -1.538889    10.0500    18.722222    36.400000  \n",
       "Humidity                     0.680000     0.8300     0.920000     1.000000  \n",
       "Wind Speed (km/h)            4.878300     9.0643    13.395200    45.933300  \n",
       "Wind Bearing (degrees)     122.000000   190.0000   287.000000   359.000000  \n",
       "Visibility (km)              6.906900     9.9820    11.270000    16.100000  \n",
       "Pressure (millibars)      1012.060000  1016.8400  1022.490000  1045.140000  "
      ]
     },
     "execution_count": 14,
     "metadata": {},
     "output_type": "execute_result"
    }
   ],
   "source": [
    "weather_df.describe().T"
   ]
  },
  {
   "cell_type": "code",
   "execution_count": 15,
   "id": "5b1988fd",
   "metadata": {},
   "outputs": [
    {
     "data": {
      "text/plain": [
       "Temperature (C)              10.217695\n",
       "Apparent Temperature (C)      8.958658\n",
       "Humidity                      0.779488\n",
       "Wind Speed (km/h)            10.007362\n",
       "Wind Bearing (degrees)      190.349558\n",
       "Visibility (km)               9.476875\n",
       "Pressure (millibars)        997.359828\n",
       "dtype: float64"
      ]
     },
     "execution_count": 15,
     "metadata": {},
     "output_type": "execute_result"
    }
   ],
   "source": [
    "weather_df.mean()"
   ]
  },
  {
   "cell_type": "code",
   "execution_count": 16,
   "id": "c24ac617",
   "metadata": {},
   "outputs": [
    {
     "data": {
      "text/plain": [
       "Temperature (C)               10.0500\n",
       "Apparent Temperature (C)      10.0500\n",
       "Humidity                       0.8300\n",
       "Wind Speed (km/h)              9.0643\n",
       "Wind Bearing (degrees)       190.0000\n",
       "Visibility (km)                9.9820\n",
       "Pressure (millibars)        1016.8400\n",
       "dtype: float64"
      ]
     },
     "execution_count": 16,
     "metadata": {},
     "output_type": "execute_result"
    }
   ],
   "source": [
    "weather_df.median()"
   ]
  },
  {
   "cell_type": "code",
   "execution_count": 17,
   "id": "9406e313",
   "metadata": {},
   "outputs": [
    {
     "data": {
      "image/png": "[encoded data removed]",
      "text/plain": [
       "<Figure size 1800x1500 with 7 Axes>"
      ]
     },
     "metadata": {},
     "output_type": "display_data"
    }
   ],
   "source": [
    "plt.figure(dpi=100, figsize=(18,15))\n",
    "\n",
    "plt.subplot(421)\n",
    "sns.boxplot(data=weather_df,x='Temperature (C)')\n",
    "            \n",
    "plt.subplot(422)\n",
    "sns.boxplot(data=weather_df,x='Apparent Temperature (C)')\n",
    "            \n",
    "plt.subplot(423)\n",
    "sns.boxplot(data=weather_df,x='Humidity')\n",
    "            \n",
    "plt.subplot(424)\n",
    "sns.boxplot(data=weather_df,x='Wind Bearing (degrees)')\n",
    "\n",
    "plt.subplot(425)\n",
    "sns.boxplot(data=weather_df,x='Visibility (km)');\n",
    "\n",
    "plt.subplot(426)\n",
    "sns.boxplot(data=weather_df,x='Wind Speed (km/h)');\n",
    "\n",
    "plt.subplot(427)\n",
    "sns.boxplot(data=weather_df,x='Pressure (millibars)');"
   ]
  },
  {
   "cell_type": "code",
   "execution_count": 18,
   "id": "d81eca42",
   "metadata": {},
   "outputs": [],
   "source": [
    "# for Humidity\n",
    "Q1,Q2,Q3 =tuple(weather_df.Humidity.quantile(q=[0.25,0.5,0.75]).values)"
   ]
  },
  {
   "cell_type": "code",
   "execution_count": 19,
   "id": "fbb4c3fa",
   "metadata": {},
   "outputs": [
    {
     "name": "stdout",
     "output_type": "stream",
     "text": [
      "0.68 0.83 0.92\n"
     ]
    },
    {
     "data": {
      "text/plain": [
       "0.83"
      ]
     },
     "execution_count": 19,
     "metadata": {},
     "output_type": "execute_result"
    }
   ],
   "source": [
    "print(Q1,Q2,Q3)\n",
    "weather_df.Humidity.median()"
   ]
  },
  {
   "cell_type": "code",
   "execution_count": 20,
   "id": "ce1e1010",
   "metadata": {},
   "outputs": [
    {
     "name": "stdout",
     "output_type": "stream",
     "text": [
      "0.24\n",
      "1.28\n",
      "0.32000000000000006\n"
     ]
    }
   ],
   "source": [
    "IQR = Q3-Q1\n",
    "UL = Q3+1.5*IQR\n",
    "LL = Q1-1.5*IQR\n",
    "print(IQR,UL,LL,sep='\\n')"
   ]
  },
  {
   "cell_type": "code",
   "execution_count": 21,
   "id": "d5799962",
   "metadata": {},
   "outputs": [],
   "source": [
    "drop_index=weather_df[(weather_df.Humidity<LL)].index"
   ]
  },
  {
   "cell_type": "code",
   "execution_count": 22,
   "id": "2522e81f",
   "metadata": {},
   "outputs": [],
   "source": [
    "weather_df=weather_df.drop(drop_index,axis=0)"
   ]
  },
  {
   "cell_type": "code",
   "execution_count": 23,
   "id": "2dedef95",
   "metadata": {},
   "outputs": [
    {
     "data": {
      "image/png": "[encoded data removed]",
      "text/plain": [
       "<Figure size 640x480 with 1 Axes>"
      ]
     },
     "metadata": {},
     "output_type": "display_data"
    }
   ],
   "source": [
    "sns.boxplot(data=weather_df,x='Humidity');"
   ]
  },
  {
   "cell_type": "code",
   "execution_count": 30,
   "id": "ceed0acb",
   "metadata": {},
   "outputs": [],
   "source": [
    "# for visibility(km)\n",
    "Q1,Q2,Q3 =tuple(weather_df['Visibility (km)'].quantile(q=[0.25,0.5,0.75]).values)\n",
    "IQR = Q3-Q1\n",
    "UL = Q3+1.5*IQR\n",
    "LL = Q1-1.5*IQR\n",
    "\n",
    "drop_index=weather_df[(weather_df['Visibility (km)']<LL)].index\n",
    "weather_df=weather_df.drop(drop_index,axis=0)"
   ]
  },
  {
   "cell_type": "code",
   "execution_count": 31,
   "id": "56195698",
   "metadata": {},
   "outputs": [
    {
     "data": {
      "image/png": "[encoded data removed]",
      "text/plain": [
       "<Figure size 640x480 with 1 Axes>"
      ]
     },
     "metadata": {},
     "output_type": "display_data"
    }
   ],
   "source": [
    "sns.boxplot(data=weather_df,x='Visibility (km)');"
   ]
  },
  {
   "cell_type": "code",
   "execution_count": 32,
   "id": "f73d35e8",
   "metadata": {},
   "outputs": [],
   "source": [
    "# wind speed(km/h)\n",
    "Q1,Q2,Q3 =tuple(weather_df['Wind Speed (km/h)'].quantile(q=[0.25,0.5,0.75]).values)\n",
    "IQR = Q3-Q1\n",
    "UL = Q3+1.5*IQR\n",
    "LL = Q1-1.5*IQR\n",
    "\n",
    "drop_index=weather_df[(weather_df['Wind Speed (km/h)']>UL)].index\n",
    "weather_df=weather_df.drop(drop_index,axis=0)"
   ]
  },
  {
   "cell_type": "code",
   "execution_count": 33,
   "id": "448cd08b",
   "metadata": {},
   "outputs": [
    {
     "data": {
      "image/png": "[encoded data removed]",
      "text/plain": [
       "<Figure size 640x480 with 1 Axes>"
      ]
     },
     "metadata": {},
     "output_type": "display_data"
    }
   ],
   "source": [
    "sns.boxplot(data=weather_df,x='Wind Speed (km/h)');"
   ]
  },
  {
   "cell_type": "code",
   "execution_count": 34,
   "id": "2d564517",
   "metadata": {},
   "outputs": [],
   "source": [
    "# Pressure (millibars)\n",
    "Q1,Q2,Q3 =tuple(weather_df['Pressure (millibars)'].quantile(q=[0.25,0.5,0.75]).values)\n",
    "IQR = Q3-Q1\n",
    "UL = Q3+1.5*IQR\n",
    "LL = Q1-1.5*IQR\n",
    "\n",
    "drop_index=weather_df[(weather_df['Pressure (millibars)']<LL)|(weather_df['Pressure (millibars)']>UL)].index\n",
    "weather_df=weather_df.drop(drop_index,axis=0)"
   ]
  },
  {
   "cell_type": "code",
   "execution_count": 35,
   "id": "0a1a753e",
   "metadata": {},
   "outputs": [
    {
     "data": {
      "image/png": "[encoded data removed]",
      "text/plain": [
       "<Figure size 640x480 with 1 Axes>"
      ]
     },
     "metadata": {},
     "output_type": "display_data"
    }
   ],
   "source": [
    "sns.boxplot(data=weather_df,x='Pressure (millibars)');"
   ]
  },
  {
   "cell_type": "code",
   "execution_count": 27,
   "id": "a19f7662",
   "metadata": {},
   "outputs": [],
   "source": [
    "weather_df.reset_index(inplace=True)"
   ]
  },
  {
   "cell_type": "code",
   "execution_count": 28,
   "id": "b5fbacdb",
   "metadata": {},
   "outputs": [
    {
     "data": {
      "text/html": [
       "<div>\n",
       "<style scoped>\n",
       "    .dataframe tbody tr th:only-of-type {\n",
       "        vertical-align: middle;\n",
       "    }\n",
       "\n",
       "    .dataframe tbody tr th {\n",
       "        vertical-align: top;\n",
       "    }\n",
       "\n",
       "    .dataframe thead th {\n",
       "        text-align: right;\n",
       "    }\n",
       "</style>\n",
       "<table border=\"1\" class=\"dataframe\">\n",
       "  <thead>\n",
       "    <tr style=\"text-align: right;\">\n",
       "      <th></th>\n",
       "      <th>index</th>\n",
       "      <th>Formatted Date</th>\n",
       "      <th>Summary</th>\n",
       "      <th>Precip Type</th>\n",
       "      <th>Temperature (C)</th>\n",
       "      <th>Apparent Temperature (C)</th>\n",
       "      <th>Humidity</th>\n",
       "      <th>Wind Speed (km/h)</th>\n",
       "      <th>Wind Bearing (degrees)</th>\n",
       "      <th>Visibility (km)</th>\n",
       "      <th>Pressure (millibars)</th>\n",
       "    </tr>\n",
       "  </thead>\n",
       "  <tbody>\n",
       "    <tr>\n",
       "      <th>0</th>\n",
       "      <td>0</td>\n",
       "      <td>2006-03-31 22:00:00+00:00</td>\n",
       "      <td>Partly Cloudy</td>\n",
       "      <td>rain</td>\n",
       "      <td>9.472222</td>\n",
       "      <td>7.388889</td>\n",
       "      <td>0.89</td>\n",
       "      <td>14.1197</td>\n",
       "      <td>251</td>\n",
       "      <td>15.8263</td>\n",
       "      <td>1015.13</td>\n",
       "    </tr>\n",
       "    <tr>\n",
       "      <th>1</th>\n",
       "      <td>1</td>\n",
       "      <td>2006-03-31 23:00:00+00:00</td>\n",
       "      <td>Partly Cloudy</td>\n",
       "      <td>rain</td>\n",
       "      <td>9.355556</td>\n",
       "      <td>7.227778</td>\n",
       "      <td>0.86</td>\n",
       "      <td>14.2646</td>\n",
       "      <td>259</td>\n",
       "      <td>15.8263</td>\n",
       "      <td>1015.63</td>\n",
       "    </tr>\n",
       "    <tr>\n",
       "      <th>2</th>\n",
       "      <td>2</td>\n",
       "      <td>2006-04-01 00:00:00+00:00</td>\n",
       "      <td>Mostly Cloudy</td>\n",
       "      <td>rain</td>\n",
       "      <td>9.377778</td>\n",
       "      <td>9.377778</td>\n",
       "      <td>0.89</td>\n",
       "      <td>3.9284</td>\n",
       "      <td>204</td>\n",
       "      <td>14.9569</td>\n",
       "      <td>1015.94</td>\n",
       "    </tr>\n",
       "    <tr>\n",
       "      <th>3</th>\n",
       "      <td>3</td>\n",
       "      <td>2006-04-01 01:00:00+00:00</td>\n",
       "      <td>Partly Cloudy</td>\n",
       "      <td>rain</td>\n",
       "      <td>8.288889</td>\n",
       "      <td>5.944444</td>\n",
       "      <td>0.83</td>\n",
       "      <td>14.1036</td>\n",
       "      <td>269</td>\n",
       "      <td>15.8263</td>\n",
       "      <td>1016.41</td>\n",
       "    </tr>\n",
       "    <tr>\n",
       "      <th>4</th>\n",
       "      <td>4</td>\n",
       "      <td>2006-04-01 02:00:00+00:00</td>\n",
       "      <td>Mostly Cloudy</td>\n",
       "      <td>rain</td>\n",
       "      <td>8.755556</td>\n",
       "      <td>6.977778</td>\n",
       "      <td>0.83</td>\n",
       "      <td>11.0446</td>\n",
       "      <td>259</td>\n",
       "      <td>15.8263</td>\n",
       "      <td>1016.51</td>\n",
       "    </tr>\n",
       "  </tbody>\n",
       "</table>\n",
       "</div>"
      ],
      "text/plain": [
       "   index            Formatted Date        Summary Precip Type  \\\n",
       "0      0 2006-03-31 22:00:00+00:00  Partly Cloudy        rain   \n",
       "1      1 2006-03-31 23:00:00+00:00  Partly Cloudy        rain   \n",
       "2      2 2006-04-01 00:00:00+00:00  Mostly Cloudy        rain   \n",
       "3      3 2006-04-01 01:00:00+00:00  Partly Cloudy        rain   \n",
       "4      4 2006-04-01 02:00:00+00:00  Mostly Cloudy        rain   \n",
       "\n",
       "   Temperature (C)  Apparent Temperature (C)  Humidity  Wind Speed (km/h)  \\\n",
       "0         9.472222                  7.388889      0.89            14.1197   \n",
       "1         9.355556                  7.227778      0.86            14.2646   \n",
       "2         9.377778                  9.377778      0.89             3.9284   \n",
       "3         8.288889                  5.944444      0.83            14.1036   \n",
       "4         8.755556                  6.977778      0.83            11.0446   \n",
       "\n",
       "   Wind Bearing (degrees)  Visibility (km)  Pressure (millibars)  \n",
       "0                     251          15.8263               1015.13  \n",
       "1                     259          15.8263               1015.63  \n",
       "2                     204          14.9569               1015.94  \n",
       "3                     269          15.8263               1016.41  \n",
       "4                     259          15.8263               1016.51  "
      ]
     },
     "execution_count": 28,
     "metadata": {},
     "output_type": "execute_result"
    }
   ],
   "source": [
    "weather_df.head()"
   ]
  },
  {
   "cell_type": "code",
   "execution_count": 29,
   "id": "6a030779",
   "metadata": {},
   "outputs": [],
   "source": [
    "weather_df.drop(\"index\",axis=1,inplace=True)"
   ]
  },
  {
   "cell_type": "markdown",
   "id": "a9594afd",
   "metadata": {},
   "source": [
    "## Data Visualization"
   ]
  },
  {
   "cell_type": "code",
   "execution_count": 30,
   "id": "fa139663",
   "metadata": {},
   "outputs": [
    {
     "data": {
      "text/html": [
       "<div>\n",
       "<style scoped>\n",
       "    .dataframe tbody tr th:only-of-type {\n",
       "        vertical-align: middle;\n",
       "    }\n",
       "\n",
       "    .dataframe tbody tr th {\n",
       "        vertical-align: top;\n",
       "    }\n",
       "\n",
       "    .dataframe thead th {\n",
       "        text-align: right;\n",
       "    }\n",
       "</style>\n",
       "<table border=\"1\" class=\"dataframe\">\n",
       "  <thead>\n",
       "    <tr style=\"text-align: right;\">\n",
       "      <th></th>\n",
       "      <th>Formatted Date</th>\n",
       "      <th>Summary</th>\n",
       "      <th>Precip Type</th>\n",
       "      <th>Temperature (C)</th>\n",
       "      <th>Apparent Temperature (C)</th>\n",
       "      <th>Humidity</th>\n",
       "      <th>Wind Speed (km/h)</th>\n",
       "      <th>Wind Bearing (degrees)</th>\n",
       "      <th>Visibility (km)</th>\n",
       "      <th>Pressure (millibars)</th>\n",
       "    </tr>\n",
       "  </thead>\n",
       "  <tbody>\n",
       "    <tr>\n",
       "      <th>0</th>\n",
       "      <td>2006-03-31 22:00:00+00:00</td>\n",
       "      <td>Partly Cloudy</td>\n",
       "      <td>rain</td>\n",
       "      <td>9.472222</td>\n",
       "      <td>7.388889</td>\n",
       "      <td>0.89</td>\n",
       "      <td>14.1197</td>\n",
       "      <td>251</td>\n",
       "      <td>15.8263</td>\n",
       "      <td>1015.13</td>\n",
       "    </tr>\n",
       "    <tr>\n",
       "      <th>1</th>\n",
       "      <td>2006-03-31 23:00:00+00:00</td>\n",
       "      <td>Partly Cloudy</td>\n",
       "      <td>rain</td>\n",
       "      <td>9.355556</td>\n",
       "      <td>7.227778</td>\n",
       "      <td>0.86</td>\n",
       "      <td>14.2646</td>\n",
       "      <td>259</td>\n",
       "      <td>15.8263</td>\n",
       "      <td>1015.63</td>\n",
       "    </tr>\n",
       "    <tr>\n",
       "      <th>2</th>\n",
       "      <td>2006-04-01 00:00:00+00:00</td>\n",
       "      <td>Mostly Cloudy</td>\n",
       "      <td>rain</td>\n",
       "      <td>9.377778</td>\n",
       "      <td>9.377778</td>\n",
       "      <td>0.89</td>\n",
       "      <td>3.9284</td>\n",
       "      <td>204</td>\n",
       "      <td>14.9569</td>\n",
       "      <td>1015.94</td>\n",
       "    </tr>\n",
       "    <tr>\n",
       "      <th>3</th>\n",
       "      <td>2006-04-01 01:00:00+00:00</td>\n",
       "      <td>Partly Cloudy</td>\n",
       "      <td>rain</td>\n",
       "      <td>8.288889</td>\n",
       "      <td>5.944444</td>\n",
       "      <td>0.83</td>\n",
       "      <td>14.1036</td>\n",
       "      <td>269</td>\n",
       "      <td>15.8263</td>\n",
       "      <td>1016.41</td>\n",
       "    </tr>\n",
       "    <tr>\n",
       "      <th>4</th>\n",
       "      <td>2006-04-01 02:00:00+00:00</td>\n",
       "      <td>Mostly Cloudy</td>\n",
       "      <td>rain</td>\n",
       "      <td>8.755556</td>\n",
       "      <td>6.977778</td>\n",
       "      <td>0.83</td>\n",
       "      <td>11.0446</td>\n",
       "      <td>259</td>\n",
       "      <td>15.8263</td>\n",
       "      <td>1016.51</td>\n",
       "    </tr>\n",
       "    <tr>\n",
       "      <th>...</th>\n",
       "      <td>...</td>\n",
       "      <td>...</td>\n",
       "      <td>...</td>\n",
       "      <td>...</td>\n",
       "      <td>...</td>\n",
       "      <td>...</td>\n",
       "      <td>...</td>\n",
       "      <td>...</td>\n",
       "      <td>...</td>\n",
       "      <td>...</td>\n",
       "    </tr>\n",
       "    <tr>\n",
       "      <th>5431</th>\n",
       "      <td>2006-05-15 17:00:00+00:00</td>\n",
       "      <td>Partly Cloudy</td>\n",
       "      <td>rain</td>\n",
       "      <td>19.094444</td>\n",
       "      <td>19.094444</td>\n",
       "      <td>0.60</td>\n",
       "      <td>6.9391</td>\n",
       "      <td>350</td>\n",
       "      <td>11.2056</td>\n",
       "      <td>1020.07</td>\n",
       "    </tr>\n",
       "    <tr>\n",
       "      <th>5432</th>\n",
       "      <td>2006-05-15 18:00:00+00:00</td>\n",
       "      <td>Partly Cloudy</td>\n",
       "      <td>rain</td>\n",
       "      <td>17.655556</td>\n",
       "      <td>17.655556</td>\n",
       "      <td>0.62</td>\n",
       "      <td>1.6100</td>\n",
       "      <td>56</td>\n",
       "      <td>10.3523</td>\n",
       "      <td>1020.44</td>\n",
       "    </tr>\n",
       "    <tr>\n",
       "      <th>5433</th>\n",
       "      <td>2006-05-15 19:00:00+00:00</td>\n",
       "      <td>Partly Cloudy</td>\n",
       "      <td>rain</td>\n",
       "      <td>15.072222</td>\n",
       "      <td>15.072222</td>\n",
       "      <td>0.78</td>\n",
       "      <td>1.9481</td>\n",
       "      <td>170</td>\n",
       "      <td>9.9820</td>\n",
       "      <td>1020.99</td>\n",
       "    </tr>\n",
       "    <tr>\n",
       "      <th>5434</th>\n",
       "      <td>2006-05-15 20:00:00+00:00</td>\n",
       "      <td>Partly Cloudy</td>\n",
       "      <td>rain</td>\n",
       "      <td>13.405556</td>\n",
       "      <td>13.405556</td>\n",
       "      <td>0.83</td>\n",
       "      <td>3.1073</td>\n",
       "      <td>201</td>\n",
       "      <td>15.8263</td>\n",
       "      <td>1021.50</td>\n",
       "    </tr>\n",
       "    <tr>\n",
       "      <th>5435</th>\n",
       "      <td>2006-05-15 21:00:00+00:00</td>\n",
       "      <td>Clear</td>\n",
       "      <td>rain</td>\n",
       "      <td>12.927778</td>\n",
       "      <td>12.927778</td>\n",
       "      <td>0.90</td>\n",
       "      <td>2.7531</td>\n",
       "      <td>191</td>\n",
       "      <td>14.9569</td>\n",
       "      <td>1021.64</td>\n",
       "    </tr>\n",
       "  </tbody>\n",
       "</table>\n",
       "<p>5436 rows × 10 columns</p>\n",
       "</div>"
      ],
      "text/plain": [
       "                Formatted Date        Summary Precip Type  Temperature (C)  \\\n",
       "0    2006-03-31 22:00:00+00:00  Partly Cloudy        rain         9.472222   \n",
       "1    2006-03-31 23:00:00+00:00  Partly Cloudy        rain         9.355556   \n",
       "2    2006-04-01 00:00:00+00:00  Mostly Cloudy        rain         9.377778   \n",
       "3    2006-04-01 01:00:00+00:00  Partly Cloudy        rain         8.288889   \n",
       "4    2006-04-01 02:00:00+00:00  Mostly Cloudy        rain         8.755556   \n",
       "...                        ...            ...         ...              ...   \n",
       "5431 2006-05-15 17:00:00+00:00  Partly Cloudy        rain        19.094444   \n",
       "5432 2006-05-15 18:00:00+00:00  Partly Cloudy        rain        17.655556   \n",
       "5433 2006-05-15 19:00:00+00:00  Partly Cloudy        rain        15.072222   \n",
       "5434 2006-05-15 20:00:00+00:00  Partly Cloudy        rain        13.405556   \n",
       "5435 2006-05-15 21:00:00+00:00          Clear        rain        12.927778   \n",
       "\n",
       "      Apparent Temperature (C)  Humidity  Wind Speed (km/h)  \\\n",
       "0                     7.388889      0.89            14.1197   \n",
       "1                     7.227778      0.86            14.2646   \n",
       "2                     9.377778      0.89             3.9284   \n",
       "3                     5.944444      0.83            14.1036   \n",
       "4                     6.977778      0.83            11.0446   \n",
       "...                        ...       ...                ...   \n",
       "5431                 19.094444      0.60             6.9391   \n",
       "5432                 17.655556      0.62             1.6100   \n",
       "5433                 15.072222      0.78             1.9481   \n",
       "5434                 13.405556      0.83             3.1073   \n",
       "5435                 12.927778      0.90             2.7531   \n",
       "\n",
       "      Wind Bearing (degrees)  Visibility (km)  Pressure (millibars)  \n",
       "0                        251          15.8263               1015.13  \n",
       "1                        259          15.8263               1015.63  \n",
       "2                        204          14.9569               1015.94  \n",
       "3                        269          15.8263               1016.41  \n",
       "4                        259          15.8263               1016.51  \n",
       "...                      ...              ...                   ...  \n",
       "5431                     350          11.2056               1020.07  \n",
       "5432                      56          10.3523               1020.44  \n",
       "5433                     170           9.9820               1020.99  \n",
       "5434                     201          15.8263               1021.50  \n",
       "5435                     191          14.9569               1021.64  \n",
       "\n",
       "[5436 rows x 10 columns]"
      ]
     },
     "execution_count": 30,
     "metadata": {},
     "output_type": "execute_result"
    }
   ],
   "source": [
    "weather_df"
   ]
  },
  {
   "cell_type": "code",
   "execution_count": 31,
   "id": "069c5535",
   "metadata": {},
   "outputs": [
    {
     "data": {
      "text/html": [
       "<div>\n",
       "<style scoped>\n",
       "    .dataframe tbody tr th:only-of-type {\n",
       "        vertical-align: middle;\n",
       "    }\n",
       "\n",
       "    .dataframe tbody tr th {\n",
       "        vertical-align: top;\n",
       "    }\n",
       "\n",
       "    .dataframe thead th {\n",
       "        text-align: right;\n",
       "    }\n",
       "</style>\n",
       "<table border=\"1\" class=\"dataframe\">\n",
       "  <thead>\n",
       "    <tr style=\"text-align: right;\">\n",
       "      <th></th>\n",
       "      <th>Temperature (C)</th>\n",
       "      <th>Apparent Temperature (C)</th>\n",
       "      <th>Humidity</th>\n",
       "      <th>Wind Speed (km/h)</th>\n",
       "      <th>Wind Bearing (degrees)</th>\n",
       "      <th>Visibility (km)</th>\n",
       "      <th>Pressure (millibars)</th>\n",
       "    </tr>\n",
       "  </thead>\n",
       "  <tbody>\n",
       "    <tr>\n",
       "      <th>Temperature (C)</th>\n",
       "      <td>1.000000</td>\n",
       "      <td>0.993664</td>\n",
       "      <td>-0.548251</td>\n",
       "      <td>-0.069454</td>\n",
       "      <td>0.011867</td>\n",
       "      <td>0.433338</td>\n",
       "      <td>-0.379611</td>\n",
       "    </tr>\n",
       "    <tr>\n",
       "      <th>Apparent Temperature (C)</th>\n",
       "      <td>0.993664</td>\n",
       "      <td>1.000000</td>\n",
       "      <td>-0.522134</td>\n",
       "      <td>-0.136108</td>\n",
       "      <td>0.019907</td>\n",
       "      <td>0.427235</td>\n",
       "      <td>-0.359716</td>\n",
       "    </tr>\n",
       "    <tr>\n",
       "      <th>Humidity</th>\n",
       "      <td>-0.548251</td>\n",
       "      <td>-0.522134</td>\n",
       "      <td>1.000000</td>\n",
       "      <td>-0.217725</td>\n",
       "      <td>0.054983</td>\n",
       "      <td>-0.314740</td>\n",
       "      <td>0.106697</td>\n",
       "    </tr>\n",
       "    <tr>\n",
       "      <th>Wind Speed (km/h)</th>\n",
       "      <td>-0.069454</td>\n",
       "      <td>-0.136108</td>\n",
       "      <td>-0.217725</td>\n",
       "      <td>1.000000</td>\n",
       "      <td>-0.049193</td>\n",
       "      <td>0.059609</td>\n",
       "      <td>-0.238955</td>\n",
       "    </tr>\n",
       "    <tr>\n",
       "      <th>Wind Bearing (degrees)</th>\n",
       "      <td>0.011867</td>\n",
       "      <td>0.019907</td>\n",
       "      <td>0.054983</td>\n",
       "      <td>-0.049193</td>\n",
       "      <td>1.000000</td>\n",
       "      <td>0.005348</td>\n",
       "      <td>-0.088932</td>\n",
       "    </tr>\n",
       "    <tr>\n",
       "      <th>Visibility (km)</th>\n",
       "      <td>0.433338</td>\n",
       "      <td>0.427235</td>\n",
       "      <td>-0.314740</td>\n",
       "      <td>0.059609</td>\n",
       "      <td>0.005348</td>\n",
       "      <td>1.000000</td>\n",
       "      <td>-0.289151</td>\n",
       "    </tr>\n",
       "    <tr>\n",
       "      <th>Pressure (millibars)</th>\n",
       "      <td>-0.379611</td>\n",
       "      <td>-0.359716</td>\n",
       "      <td>0.106697</td>\n",
       "      <td>-0.238955</td>\n",
       "      <td>-0.088932</td>\n",
       "      <td>-0.289151</td>\n",
       "      <td>1.000000</td>\n",
       "    </tr>\n",
       "  </tbody>\n",
       "</table>\n",
       "</div>"
      ],
      "text/plain": [
       "                          Temperature (C)  Apparent Temperature (C)  Humidity  \\\n",
       "Temperature (C)                  1.000000                  0.993664 -0.548251   \n",
       "Apparent Temperature (C)         0.993664                  1.000000 -0.522134   \n",
       "Humidity                        -0.548251                 -0.522134  1.000000   \n",
       "Wind Speed (km/h)               -0.069454                 -0.136108 -0.217725   \n",
       "Wind Bearing (degrees)           0.011867                  0.019907  0.054983   \n",
       "Visibility (km)                  0.433338                  0.427235 -0.314740   \n",
       "Pressure (millibars)            -0.379611                 -0.359716  0.106697   \n",
       "\n",
       "                          Wind Speed (km/h)  Wind Bearing (degrees)  \\\n",
       "Temperature (C)                   -0.069454                0.011867   \n",
       "Apparent Temperature (C)          -0.136108                0.019907   \n",
       "Humidity                          -0.217725                0.054983   \n",
       "Wind Speed (km/h)                  1.000000               -0.049193   \n",
       "Wind Bearing (degrees)            -0.049193                1.000000   \n",
       "Visibility (km)                    0.059609                0.005348   \n",
       "Pressure (millibars)              -0.238955               -0.088932   \n",
       "\n",
       "                          Visibility (km)  Pressure (millibars)  \n",
       "Temperature (C)                  0.433338             -0.379611  \n",
       "Apparent Temperature (C)         0.427235             -0.359716  \n",
       "Humidity                        -0.314740              0.106697  \n",
       "Wind Speed (km/h)                0.059609             -0.238955  \n",
       "Wind Bearing (degrees)           0.005348             -0.088932  \n",
       "Visibility (km)                  1.000000             -0.289151  \n",
       "Pressure (millibars)            -0.289151              1.000000  "
      ]
     },
     "execution_count": 31,
     "metadata": {},
     "output_type": "execute_result"
    }
   ],
   "source": [
    "weather_df.corr()"
   ]
  },
  {
   "cell_type": "code",
   "execution_count": 32,
   "id": "695e101f",
   "metadata": {},
   "outputs": [
    {
     "data": {
      "image/png": "[encoded data removed]",
      "text/plain": [
       "<Figure size 1000x600 with 2 Axes>"
      ]
     },
     "metadata": {},
     "output_type": "display_data"
    }
   ],
   "source": [
    "plt.figure(figsize=(10,6))\n",
    "sns.heatmap(data=weather_df.corr(),annot=True,cmap='winter');"
   ]
  },
  {
   "cell_type": "markdown",
   "id": "3303424c",
   "metadata": {},
   "source": [
    "### Here we can see Temperature is directly proportion to Apparent Temperature"
   ]
  },
  {
   "cell_type": "code",
   "execution_count": 33,
   "id": "16a87d07",
   "metadata": {},
   "outputs": [
    {
     "data": {
      "image/png": "[encoded data removed]",
      "text/plain": [
       "<Figure size 1000x500 with 1 Axes>"
      ]
     },
     "metadata": {},
     "output_type": "display_data"
    }
   ],
   "source": [
    "plt.figure(figsize=(10,5))\n",
    "sns.scatterplot(data=weather_df,x='Temperature (C)',y='Apparent Temperature (C)')\n",
    "plt.title(\"Relation between Temperature & Apparent Temparature\");"
   ]
  },
  {
   "cell_type": "markdown",
   "id": "c023b3f9",
   "metadata": {},
   "source": [
    "### Here,we can see that there is a linear relation between temperature and apparent temperature "
   ]
  },
  {
   "cell_type": "code",
   "execution_count": 34,
   "id": "c04bf395",
   "metadata": {},
   "outputs": [
    {
     "data": {
      "image/png": "[encoded data removed]",
      "text/plain": [
       "<Figure size 1200x600 with 1 Axes>"
      ]
     },
     "metadata": {},
     "output_type": "display_data"
    }
   ],
   "source": [
    "plt.figure(figsize=(12,6))\n",
    "sns.lineplot(data = weather_df,x='Formatted Date',y='Apparent Temperature (C)',hue='Precip Type');"
   ]
  },
  {
   "cell_type": "code",
   "execution_count": 35,
   "id": "f61ddd13",
   "metadata": {},
   "outputs": [
    {
     "data": {
      "image/png": "[encoded data removed]",
      "text/plain": [
       "<Figure size 640x480 with 1 Axes>"
      ]
     },
     "metadata": {},
     "output_type": "display_data"
    }
   ],
   "source": [
    "sns.countplot(data=weather_df,x='Precip Type');"
   ]
  },
  {
   "cell_type": "markdown",
   "id": "f7832a4c",
   "metadata": {},
   "source": [
    "### In precip type Rain has maximum count compared to snow "
   ]
  },
  {
   "cell_type": "code",
   "execution_count": 36,
   "id": "650ff719",
   "metadata": {},
   "outputs": [
    {
     "data": {
      "image/png": "[encoded data removed]",
      "text/plain": [
       "<Figure size 640x480 with 1 Axes>"
      ]
     },
     "metadata": {},
     "output_type": "display_data"
    }
   ],
   "source": [
    "sns.violinplot(data=weather_df,x='Precip Type',y='Temperature (C)',ci=None);"
   ]
  },
  {
   "cell_type": "code",
   "execution_count": 37,
   "id": "dad613df",
   "metadata": {},
   "outputs": [
    {
     "data": {
      "image/png": "[encoded data removed]",
      "text/plain": [
       "<Figure size 640x480 with 1 Axes>"
      ]
     },
     "metadata": {},
     "output_type": "display_data"
    }
   ],
   "source": [
    "sns.barplot(data=weather_df,x='Precip Type',y='Humidity',ci=None);"
   ]
  },
  {
   "cell_type": "markdown",
   "id": "7be45825",
   "metadata": {},
   "source": [
    "## Identify the Target Variable and Splitting the Data into train and test"
   ]
  },
  {
   "cell_type": "code",
   "execution_count": 38,
   "id": "1d6df785",
   "metadata": {},
   "outputs": [
    {
     "data": {
      "text/plain": [
       "Index(['Formatted Date', 'Summary', 'Precip Type', 'Temperature (C)',\n",
       "       'Apparent Temperature (C)', 'Humidity', 'Wind Speed (km/h)',\n",
       "       'Wind Bearing (degrees)', 'Visibility (km)', 'Pressure (millibars)'],\n",
       "      dtype='object')"
      ]
     },
     "execution_count": 38,
     "metadata": {},
     "output_type": "execute_result"
    }
   ],
   "source": [
    "weather_df.columns"
   ]
  },
  {
   "cell_type": "code",
   "execution_count": 39,
   "id": "226f0095",
   "metadata": {},
   "outputs": [],
   "source": [
    "y=weather_df['Apparent Temperature (C)']\n",
    "\n",
    "X=weather_df[['Formatted Date', 'Summary', 'Precip Type','Temperature (C)',\n",
    "       'Humidity', 'Wind Speed (km/h)', 'Wind Bearing (degrees)',\n",
    "       'Visibility (km)', 'Pressure (millibars)']]\n"
   ]
  },
  {
   "cell_type": "code",
   "execution_count": 40,
   "id": "d56b21b7",
   "metadata": {},
   "outputs": [],
   "source": [
    "#split data into train and test\n",
    "\n",
    "from sklearn.model_selection import train_test_split\n",
    "X_train, X_test, y_train,y_test = train_test_split(X, y, test_size=30,random_state=10)"
   ]
  },
  {
   "cell_type": "code",
   "execution_count": 41,
   "id": "38528696",
   "metadata": {},
   "outputs": [
    {
     "data": {
      "text/html": [
       "<div>\n",
       "<style scoped>\n",
       "    .dataframe tbody tr th:only-of-type {\n",
       "        vertical-align: middle;\n",
       "    }\n",
       "\n",
       "    .dataframe tbody tr th {\n",
       "        vertical-align: top;\n",
       "    }\n",
       "\n",
       "    .dataframe thead th {\n",
       "        text-align: right;\n",
       "    }\n",
       "</style>\n",
       "<table border=\"1\" class=\"dataframe\">\n",
       "  <thead>\n",
       "    <tr style=\"text-align: right;\">\n",
       "      <th></th>\n",
       "      <th>Formatted Date</th>\n",
       "      <th>Summary</th>\n",
       "      <th>Precip Type</th>\n",
       "      <th>Temperature (C)</th>\n",
       "      <th>Humidity</th>\n",
       "      <th>Wind Speed (km/h)</th>\n",
       "      <th>Wind Bearing (degrees)</th>\n",
       "      <th>Visibility (km)</th>\n",
       "      <th>Pressure (millibars)</th>\n",
       "    </tr>\n",
       "  </thead>\n",
       "  <tbody>\n",
       "    <tr>\n",
       "      <th>413</th>\n",
       "      <td>2006-04-25 19:00:00+00:00</td>\n",
       "      <td>Mostly Cloudy</td>\n",
       "      <td>rain</td>\n",
       "      <td>16.016667</td>\n",
       "      <td>0.72</td>\n",
       "      <td>4.6046</td>\n",
       "      <td>50</td>\n",
       "      <td>9.9820</td>\n",
       "      <td>1018.31</td>\n",
       "    </tr>\n",
       "    <tr>\n",
       "      <th>1724</th>\n",
       "      <td>2006-12-29 05:00:00+00:00</td>\n",
       "      <td>Overcast</td>\n",
       "      <td>snow</td>\n",
       "      <td>-2.727778</td>\n",
       "      <td>0.92</td>\n",
       "      <td>9.4507</td>\n",
       "      <td>241</td>\n",
       "      <td>3.4454</td>\n",
       "      <td>1027.32</td>\n",
       "    </tr>\n",
       "    <tr>\n",
       "      <th>2378</th>\n",
       "      <td>2006-02-26 21:00:00+00:00</td>\n",
       "      <td>Overcast</td>\n",
       "      <td>snow</td>\n",
       "      <td>-1.061111</td>\n",
       "      <td>0.92</td>\n",
       "      <td>16.8084</td>\n",
       "      <td>289</td>\n",
       "      <td>4.8461</td>\n",
       "      <td>1010.67</td>\n",
       "    </tr>\n",
       "    <tr>\n",
       "      <th>5027</th>\n",
       "      <td>2006-03-26 06:00:00+00:00</td>\n",
       "      <td>Clear</td>\n",
       "      <td>rain</td>\n",
       "      <td>7.255556</td>\n",
       "      <td>0.86</td>\n",
       "      <td>8.9516</td>\n",
       "      <td>191</td>\n",
       "      <td>7.5509</td>\n",
       "      <td>1018.92</td>\n",
       "    </tr>\n",
       "    <tr>\n",
       "      <th>4</th>\n",
       "      <td>2006-04-01 02:00:00+00:00</td>\n",
       "      <td>Mostly Cloudy</td>\n",
       "      <td>rain</td>\n",
       "      <td>8.755556</td>\n",
       "      <td>0.83</td>\n",
       "      <td>11.0446</td>\n",
       "      <td>259</td>\n",
       "      <td>15.8263</td>\n",
       "      <td>1016.51</td>\n",
       "    </tr>\n",
       "  </tbody>\n",
       "</table>\n",
       "</div>"
      ],
      "text/plain": [
       "                Formatted Date        Summary Precip Type  Temperature (C)  \\\n",
       "413  2006-04-25 19:00:00+00:00  Mostly Cloudy        rain        16.016667   \n",
       "1724 2006-12-29 05:00:00+00:00       Overcast        snow        -2.727778   \n",
       "2378 2006-02-26 21:00:00+00:00       Overcast        snow        -1.061111   \n",
       "5027 2006-03-26 06:00:00+00:00          Clear        rain         7.255556   \n",
       "4    2006-04-01 02:00:00+00:00  Mostly Cloudy        rain         8.755556   \n",
       "\n",
       "      Humidity  Wind Speed (km/h)  Wind Bearing (degrees)  Visibility (km)  \\\n",
       "413       0.72             4.6046                      50           9.9820   \n",
       "1724      0.92             9.4507                     241           3.4454   \n",
       "2378      0.92            16.8084                     289           4.8461   \n",
       "5027      0.86             8.9516                     191           7.5509   \n",
       "4         0.83            11.0446                     259          15.8263   \n",
       "\n",
       "      Pressure (millibars)  \n",
       "413                1018.31  \n",
       "1724               1027.32  \n",
       "2378               1010.67  \n",
       "5027               1018.92  \n",
       "4                  1016.51  "
      ]
     },
     "execution_count": 41,
     "metadata": {},
     "output_type": "execute_result"
    }
   ],
   "source": [
    "X_train.head()"
   ]
  },
  {
   "cell_type": "code",
   "execution_count": 42,
   "id": "8a758298",
   "metadata": {},
   "outputs": [
    {
     "data": {
      "text/html": [
       "<div>\n",
       "<style scoped>\n",
       "    .dataframe tbody tr th:only-of-type {\n",
       "        vertical-align: middle;\n",
       "    }\n",
       "\n",
       "    .dataframe tbody tr th {\n",
       "        vertical-align: top;\n",
       "    }\n",
       "\n",
       "    .dataframe thead th {\n",
       "        text-align: right;\n",
       "    }\n",
       "</style>\n",
       "<table border=\"1\" class=\"dataframe\">\n",
       "  <thead>\n",
       "    <tr style=\"text-align: right;\">\n",
       "      <th></th>\n",
       "      <th>Formatted Date</th>\n",
       "      <th>Summary</th>\n",
       "      <th>Precip Type</th>\n",
       "      <th>Temperature (C)</th>\n",
       "      <th>Humidity</th>\n",
       "      <th>Wind Speed (km/h)</th>\n",
       "      <th>Wind Bearing (degrees)</th>\n",
       "      <th>Visibility (km)</th>\n",
       "      <th>Pressure (millibars)</th>\n",
       "    </tr>\n",
       "  </thead>\n",
       "  <tbody>\n",
       "    <tr>\n",
       "      <th>1302</th>\n",
       "      <td>2006-08-06 19:00:00+00:00</td>\n",
       "      <td>Partly Cloudy</td>\n",
       "      <td>rain</td>\n",
       "      <td>17.244444</td>\n",
       "      <td>0.87</td>\n",
       "      <td>1.4168</td>\n",
       "      <td>33</td>\n",
       "      <td>9.9820</td>\n",
       "      <td>1010.18</td>\n",
       "    </tr>\n",
       "    <tr>\n",
       "      <th>449</th>\n",
       "      <td>2006-04-27 08:00:00+00:00</td>\n",
       "      <td>Mostly Cloudy</td>\n",
       "      <td>rain</td>\n",
       "      <td>17.827778</td>\n",
       "      <td>0.73</td>\n",
       "      <td>7.4704</td>\n",
       "      <td>166</td>\n",
       "      <td>9.9820</td>\n",
       "      <td>1013.10</td>\n",
       "    </tr>\n",
       "    <tr>\n",
       "      <th>3978</th>\n",
       "      <td>2006-06-11 05:00:00+00:00</td>\n",
       "      <td>Foggy</td>\n",
       "      <td>rain</td>\n",
       "      <td>10.011111</td>\n",
       "      <td>0.99</td>\n",
       "      <td>8.0178</td>\n",
       "      <td>23</td>\n",
       "      <td>2.5921</td>\n",
       "      <td>1025.23</td>\n",
       "    </tr>\n",
       "    <tr>\n",
       "      <th>1961</th>\n",
       "      <td>2006-02-10 02:00:00+00:00</td>\n",
       "      <td>Foggy</td>\n",
       "      <td>snow</td>\n",
       "      <td>-2.733333</td>\n",
       "      <td>0.96</td>\n",
       "      <td>10.4489</td>\n",
       "      <td>161</td>\n",
       "      <td>0.1932</td>\n",
       "      <td>1010.10</td>\n",
       "    </tr>\n",
       "    <tr>\n",
       "      <th>3327</th>\n",
       "      <td>2006-07-12 15:00:00+00:00</td>\n",
       "      <td>Partly Cloudy</td>\n",
       "      <td>rain</td>\n",
       "      <td>27.277778</td>\n",
       "      <td>0.51</td>\n",
       "      <td>10.1752</td>\n",
       "      <td>350</td>\n",
       "      <td>10.6743</td>\n",
       "      <td>1018.23</td>\n",
       "    </tr>\n",
       "  </tbody>\n",
       "</table>\n",
       "</div>"
      ],
      "text/plain": [
       "                Formatted Date        Summary Precip Type  Temperature (C)  \\\n",
       "1302 2006-08-06 19:00:00+00:00  Partly Cloudy        rain        17.244444   \n",
       "449  2006-04-27 08:00:00+00:00  Mostly Cloudy        rain        17.827778   \n",
       "3978 2006-06-11 05:00:00+00:00          Foggy        rain        10.011111   \n",
       "1961 2006-02-10 02:00:00+00:00          Foggy        snow        -2.733333   \n",
       "3327 2006-07-12 15:00:00+00:00  Partly Cloudy        rain        27.277778   \n",
       "\n",
       "      Humidity  Wind Speed (km/h)  Wind Bearing (degrees)  Visibility (km)  \\\n",
       "1302      0.87             1.4168                      33           9.9820   \n",
       "449       0.73             7.4704                     166           9.9820   \n",
       "3978      0.99             8.0178                      23           2.5921   \n",
       "1961      0.96            10.4489                     161           0.1932   \n",
       "3327      0.51            10.1752                     350          10.6743   \n",
       "\n",
       "      Pressure (millibars)  \n",
       "1302               1010.18  \n",
       "449                1013.10  \n",
       "3978               1025.23  \n",
       "1961               1010.10  \n",
       "3327               1018.23  "
      ]
     },
     "execution_count": 42,
     "metadata": {},
     "output_type": "execute_result"
    }
   ],
   "source": [
    "X_test.head()"
   ]
  },
  {
   "cell_type": "code",
   "execution_count": 43,
   "id": "5f0e956d",
   "metadata": {},
   "outputs": [
    {
     "name": "stdout",
     "output_type": "stream",
     "text": [
      "(5406, 9) (5406,)\n",
      "(30, 9) (30,)\n"
     ]
    }
   ],
   "source": [
    "print(X_train.shape,y_train.shape)\n",
    "print(X_test.shape,y_test.shape)"
   ]
  },
  {
   "cell_type": "markdown",
   "id": "dec83855",
   "metadata": {},
   "source": [
    "## Data Prerocessing on train data"
   ]
  },
  {
   "cell_type": "markdown",
   "id": "6a83bca6",
   "metadata": {},
   "source": [
    "## Seperating categorical & Numerical columns "
   ]
  },
  {
   "cell_type": "code",
   "execution_count": 44,
   "id": "f82b9ca5",
   "metadata": {},
   "outputs": [],
   "source": [
    "X_train_cat = X_train.select_dtypes(include=['object'])"
   ]
  },
  {
   "cell_type": "code",
   "execution_count": 45,
   "id": "2ef4c164",
   "metadata": {},
   "outputs": [
    {
     "data": {
      "text/html": [
       "<div>\n",
       "<style scoped>\n",
       "    .dataframe tbody tr th:only-of-type {\n",
       "        vertical-align: middle;\n",
       "    }\n",
       "\n",
       "    .dataframe tbody tr th {\n",
       "        vertical-align: top;\n",
       "    }\n",
       "\n",
       "    .dataframe thead th {\n",
       "        text-align: right;\n",
       "    }\n",
       "</style>\n",
       "<table border=\"1\" class=\"dataframe\">\n",
       "  <thead>\n",
       "    <tr style=\"text-align: right;\">\n",
       "      <th></th>\n",
       "      <th>Summary</th>\n",
       "      <th>Precip Type</th>\n",
       "    </tr>\n",
       "  </thead>\n",
       "  <tbody>\n",
       "    <tr>\n",
       "      <th>413</th>\n",
       "      <td>Mostly Cloudy</td>\n",
       "      <td>rain</td>\n",
       "    </tr>\n",
       "    <tr>\n",
       "      <th>1724</th>\n",
       "      <td>Overcast</td>\n",
       "      <td>snow</td>\n",
       "    </tr>\n",
       "    <tr>\n",
       "      <th>2378</th>\n",
       "      <td>Overcast</td>\n",
       "      <td>snow</td>\n",
       "    </tr>\n",
       "    <tr>\n",
       "      <th>5027</th>\n",
       "      <td>Clear</td>\n",
       "      <td>rain</td>\n",
       "    </tr>\n",
       "    <tr>\n",
       "      <th>4</th>\n",
       "      <td>Mostly Cloudy</td>\n",
       "      <td>rain</td>\n",
       "    </tr>\n",
       "  </tbody>\n",
       "</table>\n",
       "</div>"
      ],
      "text/plain": [
       "            Summary Precip Type\n",
       "413   Mostly Cloudy        rain\n",
       "1724       Overcast        snow\n",
       "2378       Overcast        snow\n",
       "5027          Clear        rain\n",
       "4     Mostly Cloudy        rain"
      ]
     },
     "execution_count": 45,
     "metadata": {},
     "output_type": "execute_result"
    }
   ],
   "source": [
    "X_train_cat.head()"
   ]
  },
  {
   "cell_type": "code",
   "execution_count": 46,
   "id": "c3814ab0",
   "metadata": {},
   "outputs": [],
   "source": [
    "X_train_num = X_train.select_dtypes(include = ['number'])"
   ]
  },
  {
   "cell_type": "code",
   "execution_count": 47,
   "id": "a115d81e",
   "metadata": {},
   "outputs": [
    {
     "data": {
      "text/html": [
       "<div>\n",
       "<style scoped>\n",
       "    .dataframe tbody tr th:only-of-type {\n",
       "        vertical-align: middle;\n",
       "    }\n",
       "\n",
       "    .dataframe tbody tr th {\n",
       "        vertical-align: top;\n",
       "    }\n",
       "\n",
       "    .dataframe thead th {\n",
       "        text-align: right;\n",
       "    }\n",
       "</style>\n",
       "<table border=\"1\" class=\"dataframe\">\n",
       "  <thead>\n",
       "    <tr style=\"text-align: right;\">\n",
       "      <th></th>\n",
       "      <th>Temperature (C)</th>\n",
       "      <th>Humidity</th>\n",
       "      <th>Wind Speed (km/h)</th>\n",
       "      <th>Wind Bearing (degrees)</th>\n",
       "      <th>Visibility (km)</th>\n",
       "      <th>Pressure (millibars)</th>\n",
       "    </tr>\n",
       "  </thead>\n",
       "  <tbody>\n",
       "    <tr>\n",
       "      <th>413</th>\n",
       "      <td>16.016667</td>\n",
       "      <td>0.72</td>\n",
       "      <td>4.6046</td>\n",
       "      <td>50</td>\n",
       "      <td>9.9820</td>\n",
       "      <td>1018.31</td>\n",
       "    </tr>\n",
       "    <tr>\n",
       "      <th>1724</th>\n",
       "      <td>-2.727778</td>\n",
       "      <td>0.92</td>\n",
       "      <td>9.4507</td>\n",
       "      <td>241</td>\n",
       "      <td>3.4454</td>\n",
       "      <td>1027.32</td>\n",
       "    </tr>\n",
       "    <tr>\n",
       "      <th>2378</th>\n",
       "      <td>-1.061111</td>\n",
       "      <td>0.92</td>\n",
       "      <td>16.8084</td>\n",
       "      <td>289</td>\n",
       "      <td>4.8461</td>\n",
       "      <td>1010.67</td>\n",
       "    </tr>\n",
       "    <tr>\n",
       "      <th>5027</th>\n",
       "      <td>7.255556</td>\n",
       "      <td>0.86</td>\n",
       "      <td>8.9516</td>\n",
       "      <td>191</td>\n",
       "      <td>7.5509</td>\n",
       "      <td>1018.92</td>\n",
       "    </tr>\n",
       "    <tr>\n",
       "      <th>4</th>\n",
       "      <td>8.755556</td>\n",
       "      <td>0.83</td>\n",
       "      <td>11.0446</td>\n",
       "      <td>259</td>\n",
       "      <td>15.8263</td>\n",
       "      <td>1016.51</td>\n",
       "    </tr>\n",
       "  </tbody>\n",
       "</table>\n",
       "</div>"
      ],
      "text/plain": [
       "      Temperature (C)  Humidity  Wind Speed (km/h)  Wind Bearing (degrees)  \\\n",
       "413         16.016667      0.72             4.6046                      50   \n",
       "1724        -2.727778      0.92             9.4507                     241   \n",
       "2378        -1.061111      0.92            16.8084                     289   \n",
       "5027         7.255556      0.86             8.9516                     191   \n",
       "4            8.755556      0.83            11.0446                     259   \n",
       "\n",
       "      Visibility (km)  Pressure (millibars)  \n",
       "413            9.9820               1018.31  \n",
       "1724           3.4454               1027.32  \n",
       "2378           4.8461               1010.67  \n",
       "5027           7.5509               1018.92  \n",
       "4             15.8263               1016.51  "
      ]
     },
     "execution_count": 47,
     "metadata": {},
     "output_type": "execute_result"
    }
   ],
   "source": [
    "X_train_num.head()"
   ]
  },
  {
   "cell_type": "markdown",
   "id": "2c8634dc",
   "metadata": {},
   "source": [
    "## Scaling the Numerical Features(Standardization)"
   ]
  },
  {
   "cell_type": "code",
   "execution_count": 48,
   "id": "b9e5afa9",
   "metadata": {},
   "outputs": [],
   "source": [
    "from sklearn.preprocessing import StandardScaler\n",
    "scaler = StandardScaler()\n",
    "\n",
    "X_train_num_rescaled = pd.DataFrame(scaler.fit_transform(X_train_num),\n",
    "                                   columns = X_train_num.columns,\n",
    "                                   index = X_train_num.index)"
   ]
  },
  {
   "cell_type": "code",
   "execution_count": 49,
   "id": "4d3af0d7",
   "metadata": {},
   "outputs": [
    {
     "data": {
      "text/html": [
       "<div>\n",
       "<style scoped>\n",
       "    .dataframe tbody tr th:only-of-type {\n",
       "        vertical-align: middle;\n",
       "    }\n",
       "\n",
       "    .dataframe tbody tr th {\n",
       "        vertical-align: top;\n",
       "    }\n",
       "\n",
       "    .dataframe thead th {\n",
       "        text-align: right;\n",
       "    }\n",
       "</style>\n",
       "<table border=\"1\" class=\"dataframe\">\n",
       "  <thead>\n",
       "    <tr style=\"text-align: right;\">\n",
       "      <th></th>\n",
       "      <th>Temperature (C)</th>\n",
       "      <th>Humidity</th>\n",
       "      <th>Wind Speed (km/h)</th>\n",
       "      <th>Wind Bearing (degrees)</th>\n",
       "      <th>Visibility (km)</th>\n",
       "      <th>Pressure (millibars)</th>\n",
       "    </tr>\n",
       "  </thead>\n",
       "  <tbody>\n",
       "    <tr>\n",
       "      <th>413</th>\n",
       "      <td>0.520937</td>\n",
       "      <td>-0.361730</td>\n",
       "      <td>-0.877311</td>\n",
       "      <td>-1.334786</td>\n",
       "      <td>0.082593</td>\n",
       "      <td>0.071040</td>\n",
       "    </tr>\n",
       "    <tr>\n",
       "      <th>1724</th>\n",
       "      <td>-1.290985</td>\n",
       "      <td>0.825623</td>\n",
       "      <td>-0.026730</td>\n",
       "      <td>0.467486</td>\n",
       "      <td>-1.578808</td>\n",
       "      <td>1.204618</td>\n",
       "    </tr>\n",
       "    <tr>\n",
       "      <th>2378</th>\n",
       "      <td>-1.129877</td>\n",
       "      <td>0.825623</td>\n",
       "      <td>1.264684</td>\n",
       "      <td>0.920413</td>\n",
       "      <td>-1.222794</td>\n",
       "      <td>-0.890174</td>\n",
       "    </tr>\n",
       "    <tr>\n",
       "      <th>5027</th>\n",
       "      <td>-0.325951</td>\n",
       "      <td>0.469417</td>\n",
       "      <td>-0.114331</td>\n",
       "      <td>-0.004313</td>\n",
       "      <td>-0.535318</td>\n",
       "      <td>0.147786</td>\n",
       "    </tr>\n",
       "    <tr>\n",
       "      <th>4</th>\n",
       "      <td>-0.180954</td>\n",
       "      <td>0.291314</td>\n",
       "      <td>0.253029</td>\n",
       "      <td>0.637333</td>\n",
       "      <td>1.568032</td>\n",
       "      <td>-0.155424</td>\n",
       "    </tr>\n",
       "  </tbody>\n",
       "</table>\n",
       "</div>"
      ],
      "text/plain": [
       "      Temperature (C)  Humidity  Wind Speed (km/h)  Wind Bearing (degrees)  \\\n",
       "413          0.520937 -0.361730          -0.877311               -1.334786   \n",
       "1724        -1.290985  0.825623          -0.026730                0.467486   \n",
       "2378        -1.129877  0.825623           1.264684                0.920413   \n",
       "5027        -0.325951  0.469417          -0.114331               -0.004313   \n",
       "4           -0.180954  0.291314           0.253029                0.637333   \n",
       "\n",
       "      Visibility (km)  Pressure (millibars)  \n",
       "413          0.082593              0.071040  \n",
       "1724        -1.578808              1.204618  \n",
       "2378        -1.222794             -0.890174  \n",
       "5027        -0.535318              0.147786  \n",
       "4            1.568032             -0.155424  "
      ]
     },
     "execution_count": 49,
     "metadata": {},
     "output_type": "execute_result"
    }
   ],
   "source": [
    "X_train_num_rescaled.head()"
   ]
  },
  {
   "cell_type": "markdown",
   "id": "7637ee09",
   "metadata": {},
   "source": [
    "## Applying OneHotEncoding on categorical columns "
   ]
  },
  {
   "cell_type": "code",
   "execution_count": 50,
   "id": "ea33a07b",
   "metadata": {},
   "outputs": [],
   "source": [
    "from sklearn.preprocessing import OneHotEncoder\n",
    "encoder = OneHotEncoder(drop='first',sparse=False)\n",
    "X_train_cat_ohe = pd.DataFrame(encoder.fit_transform(X_train_cat),\n",
    "                              columns = encoder.get_feature_names_out(X_train_cat.columns),\n",
    "                              index = X_train_cat.index)"
   ]
  },
  {
   "cell_type": "code",
   "execution_count": 51,
   "id": "1d98afb2",
   "metadata": {},
   "outputs": [
    {
     "data": {
      "text/html": [
       "<div>\n",
       "<style scoped>\n",
       "    .dataframe tbody tr th:only-of-type {\n",
       "        vertical-align: middle;\n",
       "    }\n",
       "\n",
       "    .dataframe tbody tr th {\n",
       "        vertical-align: top;\n",
       "    }\n",
       "\n",
       "    .dataframe thead th {\n",
       "        text-align: right;\n",
       "    }\n",
       "</style>\n",
       "<table border=\"1\" class=\"dataframe\">\n",
       "  <thead>\n",
       "    <tr style=\"text-align: right;\">\n",
       "      <th></th>\n",
       "      <th>Summary_Foggy</th>\n",
       "      <th>Summary_Humid and Mostly Cloudy</th>\n",
       "      <th>Summary_Humid and Partly Cloudy</th>\n",
       "      <th>Summary_Mostly Cloudy</th>\n",
       "      <th>Summary_Overcast</th>\n",
       "      <th>Summary_Partly Cloudy</th>\n",
       "      <th>Precip Type_snow</th>\n",
       "    </tr>\n",
       "  </thead>\n",
       "  <tbody>\n",
       "    <tr>\n",
       "      <th>413</th>\n",
       "      <td>0.0</td>\n",
       "      <td>0.0</td>\n",
       "      <td>0.0</td>\n",
       "      <td>1.0</td>\n",
       "      <td>0.0</td>\n",
       "      <td>0.0</td>\n",
       "      <td>0.0</td>\n",
       "    </tr>\n",
       "    <tr>\n",
       "      <th>1724</th>\n",
       "      <td>0.0</td>\n",
       "      <td>0.0</td>\n",
       "      <td>0.0</td>\n",
       "      <td>0.0</td>\n",
       "      <td>1.0</td>\n",
       "      <td>0.0</td>\n",
       "      <td>1.0</td>\n",
       "    </tr>\n",
       "    <tr>\n",
       "      <th>2378</th>\n",
       "      <td>0.0</td>\n",
       "      <td>0.0</td>\n",
       "      <td>0.0</td>\n",
       "      <td>0.0</td>\n",
       "      <td>1.0</td>\n",
       "      <td>0.0</td>\n",
       "      <td>1.0</td>\n",
       "    </tr>\n",
       "    <tr>\n",
       "      <th>5027</th>\n",
       "      <td>0.0</td>\n",
       "      <td>0.0</td>\n",
       "      <td>0.0</td>\n",
       "      <td>0.0</td>\n",
       "      <td>0.0</td>\n",
       "      <td>0.0</td>\n",
       "      <td>0.0</td>\n",
       "    </tr>\n",
       "    <tr>\n",
       "      <th>4</th>\n",
       "      <td>0.0</td>\n",
       "      <td>0.0</td>\n",
       "      <td>0.0</td>\n",
       "      <td>1.0</td>\n",
       "      <td>0.0</td>\n",
       "      <td>0.0</td>\n",
       "      <td>0.0</td>\n",
       "    </tr>\n",
       "  </tbody>\n",
       "</table>\n",
       "</div>"
      ],
      "text/plain": [
       "      Summary_Foggy  Summary_Humid and Mostly Cloudy  \\\n",
       "413             0.0                              0.0   \n",
       "1724            0.0                              0.0   \n",
       "2378            0.0                              0.0   \n",
       "5027            0.0                              0.0   \n",
       "4               0.0                              0.0   \n",
       "\n",
       "      Summary_Humid and Partly Cloudy  Summary_Mostly Cloudy  \\\n",
       "413                               0.0                    1.0   \n",
       "1724                              0.0                    0.0   \n",
       "2378                              0.0                    0.0   \n",
       "5027                              0.0                    0.0   \n",
       "4                                 0.0                    1.0   \n",
       "\n",
       "      Summary_Overcast  Summary_Partly Cloudy  Precip Type_snow  \n",
       "413                0.0                    0.0               0.0  \n",
       "1724               1.0                    0.0               1.0  \n",
       "2378               1.0                    0.0               1.0  \n",
       "5027               0.0                    0.0               0.0  \n",
       "4                  0.0                    0.0               0.0  "
      ]
     },
     "execution_count": 51,
     "metadata": {},
     "output_type": "execute_result"
    }
   ],
   "source": [
    "X_train_cat_ohe.head()"
   ]
  },
  {
   "cell_type": "markdown",
   "id": "8e34d1fc",
   "metadata": {},
   "source": [
    "## Concatinating the Encoded Categorical Features and Rescaled Numerical Features "
   ]
  },
  {
   "cell_type": "code",
   "execution_count": 52,
   "id": "40c4078f",
   "metadata": {},
   "outputs": [
    {
     "data": {
      "text/html": [
       "<div>\n",
       "<style scoped>\n",
       "    .dataframe tbody tr th:only-of-type {\n",
       "        vertical-align: middle;\n",
       "    }\n",
       "\n",
       "    .dataframe tbody tr th {\n",
       "        vertical-align: top;\n",
       "    }\n",
       "\n",
       "    .dataframe thead th {\n",
       "        text-align: right;\n",
       "    }\n",
       "</style>\n",
       "<table border=\"1\" class=\"dataframe\">\n",
       "  <thead>\n",
       "    <tr style=\"text-align: right;\">\n",
       "      <th></th>\n",
       "      <th>Summary_Foggy</th>\n",
       "      <th>Summary_Humid and Mostly Cloudy</th>\n",
       "      <th>Summary_Humid and Partly Cloudy</th>\n",
       "      <th>Summary_Mostly Cloudy</th>\n",
       "      <th>Summary_Overcast</th>\n",
       "      <th>Summary_Partly Cloudy</th>\n",
       "      <th>Precip Type_snow</th>\n",
       "      <th>Temperature (C)</th>\n",
       "      <th>Humidity</th>\n",
       "      <th>Wind Speed (km/h)</th>\n",
       "      <th>Wind Bearing (degrees)</th>\n",
       "      <th>Visibility (km)</th>\n",
       "      <th>Pressure (millibars)</th>\n",
       "    </tr>\n",
       "  </thead>\n",
       "  <tbody>\n",
       "    <tr>\n",
       "      <th>413</th>\n",
       "      <td>0.0</td>\n",
       "      <td>0.0</td>\n",
       "      <td>0.0</td>\n",
       "      <td>1.0</td>\n",
       "      <td>0.0</td>\n",
       "      <td>0.0</td>\n",
       "      <td>0.0</td>\n",
       "      <td>0.520937</td>\n",
       "      <td>-0.361730</td>\n",
       "      <td>-0.877311</td>\n",
       "      <td>-1.334786</td>\n",
       "      <td>0.082593</td>\n",
       "      <td>0.071040</td>\n",
       "    </tr>\n",
       "    <tr>\n",
       "      <th>1724</th>\n",
       "      <td>0.0</td>\n",
       "      <td>0.0</td>\n",
       "      <td>0.0</td>\n",
       "      <td>0.0</td>\n",
       "      <td>1.0</td>\n",
       "      <td>0.0</td>\n",
       "      <td>1.0</td>\n",
       "      <td>-1.290985</td>\n",
       "      <td>0.825623</td>\n",
       "      <td>-0.026730</td>\n",
       "      <td>0.467486</td>\n",
       "      <td>-1.578808</td>\n",
       "      <td>1.204618</td>\n",
       "    </tr>\n",
       "    <tr>\n",
       "      <th>2378</th>\n",
       "      <td>0.0</td>\n",
       "      <td>0.0</td>\n",
       "      <td>0.0</td>\n",
       "      <td>0.0</td>\n",
       "      <td>1.0</td>\n",
       "      <td>0.0</td>\n",
       "      <td>1.0</td>\n",
       "      <td>-1.129877</td>\n",
       "      <td>0.825623</td>\n",
       "      <td>1.264684</td>\n",
       "      <td>0.920413</td>\n",
       "      <td>-1.222794</td>\n",
       "      <td>-0.890174</td>\n",
       "    </tr>\n",
       "    <tr>\n",
       "      <th>5027</th>\n",
       "      <td>0.0</td>\n",
       "      <td>0.0</td>\n",
       "      <td>0.0</td>\n",
       "      <td>0.0</td>\n",
       "      <td>0.0</td>\n",
       "      <td>0.0</td>\n",
       "      <td>0.0</td>\n",
       "      <td>-0.325951</td>\n",
       "      <td>0.469417</td>\n",
       "      <td>-0.114331</td>\n",
       "      <td>-0.004313</td>\n",
       "      <td>-0.535318</td>\n",
       "      <td>0.147786</td>\n",
       "    </tr>\n",
       "    <tr>\n",
       "      <th>4</th>\n",
       "      <td>0.0</td>\n",
       "      <td>0.0</td>\n",
       "      <td>0.0</td>\n",
       "      <td>1.0</td>\n",
       "      <td>0.0</td>\n",
       "      <td>0.0</td>\n",
       "      <td>0.0</td>\n",
       "      <td>-0.180954</td>\n",
       "      <td>0.291314</td>\n",
       "      <td>0.253029</td>\n",
       "      <td>0.637333</td>\n",
       "      <td>1.568032</td>\n",
       "      <td>-0.155424</td>\n",
       "    </tr>\n",
       "  </tbody>\n",
       "</table>\n",
       "</div>"
      ],
      "text/plain": [
       "      Summary_Foggy  Summary_Humid and Mostly Cloudy  \\\n",
       "413             0.0                              0.0   \n",
       "1724            0.0                              0.0   \n",
       "2378            0.0                              0.0   \n",
       "5027            0.0                              0.0   \n",
       "4               0.0                              0.0   \n",
       "\n",
       "      Summary_Humid and Partly Cloudy  Summary_Mostly Cloudy  \\\n",
       "413                               0.0                    1.0   \n",
       "1724                              0.0                    0.0   \n",
       "2378                              0.0                    0.0   \n",
       "5027                              0.0                    0.0   \n",
       "4                                 0.0                    1.0   \n",
       "\n",
       "      Summary_Overcast  Summary_Partly Cloudy  Precip Type_snow  \\\n",
       "413                0.0                    0.0               0.0   \n",
       "1724               1.0                    0.0               1.0   \n",
       "2378               1.0                    0.0               1.0   \n",
       "5027               0.0                    0.0               0.0   \n",
       "4                  0.0                    0.0               0.0   \n",
       "\n",
       "      Temperature (C)  Humidity  Wind Speed (km/h)  Wind Bearing (degrees)  \\\n",
       "413          0.520937 -0.361730          -0.877311               -1.334786   \n",
       "1724        -1.290985  0.825623          -0.026730                0.467486   \n",
       "2378        -1.129877  0.825623           1.264684                0.920413   \n",
       "5027        -0.325951  0.469417          -0.114331               -0.004313   \n",
       "4           -0.180954  0.291314           0.253029                0.637333   \n",
       "\n",
       "      Visibility (km)  Pressure (millibars)  \n",
       "413          0.082593              0.071040  \n",
       "1724        -1.578808              1.204618  \n",
       "2378        -1.222794             -0.890174  \n",
       "5027        -0.535318              0.147786  \n",
       "4            1.568032             -0.155424  "
      ]
     },
     "execution_count": 52,
     "metadata": {},
     "output_type": "execute_result"
    }
   ],
   "source": [
    "X_train_transformed = pd.concat([X_train_cat_ohe,X_train_num_rescaled],axis=1)\n",
    "X_train_transformed.head()"
   ]
  },
  {
   "cell_type": "markdown",
   "id": "4fe9286a",
   "metadata": {},
   "source": [
    "# Data preprocessing on test data"
   ]
  },
  {
   "cell_type": "markdown",
   "id": "3c1853a0",
   "metadata": {},
   "source": [
    "## Seperating Categorical and Numerical columns"
   ]
  },
  {
   "cell_type": "code",
   "execution_count": 53,
   "id": "374c97f0",
   "metadata": {},
   "outputs": [
    {
     "data": {
      "text/html": [
       "<div>\n",
       "<style scoped>\n",
       "    .dataframe tbody tr th:only-of-type {\n",
       "        vertical-align: middle;\n",
       "    }\n",
       "\n",
       "    .dataframe tbody tr th {\n",
       "        vertical-align: top;\n",
       "    }\n",
       "\n",
       "    .dataframe thead th {\n",
       "        text-align: right;\n",
       "    }\n",
       "</style>\n",
       "<table border=\"1\" class=\"dataframe\">\n",
       "  <thead>\n",
       "    <tr style=\"text-align: right;\">\n",
       "      <th></th>\n",
       "      <th>Summary</th>\n",
       "      <th>Precip Type</th>\n",
       "    </tr>\n",
       "  </thead>\n",
       "  <tbody>\n",
       "    <tr>\n",
       "      <th>1302</th>\n",
       "      <td>Partly Cloudy</td>\n",
       "      <td>rain</td>\n",
       "    </tr>\n",
       "    <tr>\n",
       "      <th>449</th>\n",
       "      <td>Mostly Cloudy</td>\n",
       "      <td>rain</td>\n",
       "    </tr>\n",
       "    <tr>\n",
       "      <th>3978</th>\n",
       "      <td>Foggy</td>\n",
       "      <td>rain</td>\n",
       "    </tr>\n",
       "    <tr>\n",
       "      <th>1961</th>\n",
       "      <td>Foggy</td>\n",
       "      <td>snow</td>\n",
       "    </tr>\n",
       "    <tr>\n",
       "      <th>3327</th>\n",
       "      <td>Partly Cloudy</td>\n",
       "      <td>rain</td>\n",
       "    </tr>\n",
       "  </tbody>\n",
       "</table>\n",
       "</div>"
      ],
      "text/plain": [
       "            Summary Precip Type\n",
       "1302  Partly Cloudy        rain\n",
       "449   Mostly Cloudy        rain\n",
       "3978          Foggy        rain\n",
       "1961          Foggy        snow\n",
       "3327  Partly Cloudy        rain"
      ]
     },
     "execution_count": 53,
     "metadata": {},
     "output_type": "execute_result"
    }
   ],
   "source": [
    "X_test_cat = X_test.select_dtypes(include=['object'])\n",
    "X_test_cat.head()"
   ]
  },
  {
   "cell_type": "code",
   "execution_count": 54,
   "id": "534838bb",
   "metadata": {},
   "outputs": [
    {
     "data": {
      "text/html": [
       "<div>\n",
       "<style scoped>\n",
       "    .dataframe tbody tr th:only-of-type {\n",
       "        vertical-align: middle;\n",
       "    }\n",
       "\n",
       "    .dataframe tbody tr th {\n",
       "        vertical-align: top;\n",
       "    }\n",
       "\n",
       "    .dataframe thead th {\n",
       "        text-align: right;\n",
       "    }\n",
       "</style>\n",
       "<table border=\"1\" class=\"dataframe\">\n",
       "  <thead>\n",
       "    <tr style=\"text-align: right;\">\n",
       "      <th></th>\n",
       "      <th>Temperature (C)</th>\n",
       "      <th>Humidity</th>\n",
       "      <th>Wind Speed (km/h)</th>\n",
       "      <th>Wind Bearing (degrees)</th>\n",
       "      <th>Visibility (km)</th>\n",
       "      <th>Pressure (millibars)</th>\n",
       "    </tr>\n",
       "  </thead>\n",
       "  <tbody>\n",
       "    <tr>\n",
       "      <th>1302</th>\n",
       "      <td>17.244444</td>\n",
       "      <td>0.87</td>\n",
       "      <td>1.4168</td>\n",
       "      <td>33</td>\n",
       "      <td>9.9820</td>\n",
       "      <td>1010.18</td>\n",
       "    </tr>\n",
       "    <tr>\n",
       "      <th>449</th>\n",
       "      <td>17.827778</td>\n",
       "      <td>0.73</td>\n",
       "      <td>7.4704</td>\n",
       "      <td>166</td>\n",
       "      <td>9.9820</td>\n",
       "      <td>1013.10</td>\n",
       "    </tr>\n",
       "    <tr>\n",
       "      <th>3978</th>\n",
       "      <td>10.011111</td>\n",
       "      <td>0.99</td>\n",
       "      <td>8.0178</td>\n",
       "      <td>23</td>\n",
       "      <td>2.5921</td>\n",
       "      <td>1025.23</td>\n",
       "    </tr>\n",
       "    <tr>\n",
       "      <th>1961</th>\n",
       "      <td>-2.733333</td>\n",
       "      <td>0.96</td>\n",
       "      <td>10.4489</td>\n",
       "      <td>161</td>\n",
       "      <td>0.1932</td>\n",
       "      <td>1010.10</td>\n",
       "    </tr>\n",
       "    <tr>\n",
       "      <th>3327</th>\n",
       "      <td>27.277778</td>\n",
       "      <td>0.51</td>\n",
       "      <td>10.1752</td>\n",
       "      <td>350</td>\n",
       "      <td>10.6743</td>\n",
       "      <td>1018.23</td>\n",
       "    </tr>\n",
       "  </tbody>\n",
       "</table>\n",
       "</div>"
      ],
      "text/plain": [
       "      Temperature (C)  Humidity  Wind Speed (km/h)  Wind Bearing (degrees)  \\\n",
       "1302        17.244444      0.87             1.4168                      33   \n",
       "449         17.827778      0.73             7.4704                     166   \n",
       "3978        10.011111      0.99             8.0178                      23   \n",
       "1961        -2.733333      0.96            10.4489                     161   \n",
       "3327        27.277778      0.51            10.1752                     350   \n",
       "\n",
       "      Visibility (km)  Pressure (millibars)  \n",
       "1302           9.9820               1010.18  \n",
       "449            9.9820               1013.10  \n",
       "3978           2.5921               1025.23  \n",
       "1961           0.1932               1010.10  \n",
       "3327          10.6743               1018.23  "
      ]
     },
     "execution_count": 54,
     "metadata": {},
     "output_type": "execute_result"
    }
   ],
   "source": [
    "X_test_num = X_test.select_dtypes(include=['number'])\n",
    "X_test_num.head()"
   ]
  },
  {
   "cell_type": "markdown",
   "id": "05c43503",
   "metadata": {},
   "source": [
    "## Scaling on Numerical features(Standardization)"
   ]
  },
  {
   "cell_type": "code",
   "execution_count": 55,
   "id": "f43ff970",
   "metadata": {},
   "outputs": [
    {
     "data": {
      "text/html": [
       "<div>\n",
       "<style scoped>\n",
       "    .dataframe tbody tr th:only-of-type {\n",
       "        vertical-align: middle;\n",
       "    }\n",
       "\n",
       "    .dataframe tbody tr th {\n",
       "        vertical-align: top;\n",
       "    }\n",
       "\n",
       "    .dataframe thead th {\n",
       "        text-align: right;\n",
       "    }\n",
       "</style>\n",
       "<table border=\"1\" class=\"dataframe\">\n",
       "  <thead>\n",
       "    <tr style=\"text-align: right;\">\n",
       "      <th></th>\n",
       "      <th>Temperature (C)</th>\n",
       "      <th>Humidity</th>\n",
       "      <th>Wind Speed (km/h)</th>\n",
       "      <th>Wind Bearing (degrees)</th>\n",
       "      <th>Visibility (km)</th>\n",
       "      <th>Pressure (millibars)</th>\n",
       "    </tr>\n",
       "  </thead>\n",
       "  <tbody>\n",
       "    <tr>\n",
       "      <th>1302</th>\n",
       "      <td>0.639619</td>\n",
       "      <td>0.528785</td>\n",
       "      <td>-1.436829</td>\n",
       "      <td>-1.495197</td>\n",
       "      <td>0.082593</td>\n",
       "      <td>-0.951823</td>\n",
       "    </tr>\n",
       "    <tr>\n",
       "      <th>449</th>\n",
       "      <td>0.696007</td>\n",
       "      <td>-0.302362</td>\n",
       "      <td>-0.374310</td>\n",
       "      <td>-0.240212</td>\n",
       "      <td>0.082593</td>\n",
       "      <td>-0.584448</td>\n",
       "    </tr>\n",
       "    <tr>\n",
       "      <th>3978</th>\n",
       "      <td>-0.059587</td>\n",
       "      <td>1.241197</td>\n",
       "      <td>-0.278231</td>\n",
       "      <td>-1.589557</td>\n",
       "      <td>-1.795690</td>\n",
       "      <td>0.941668</td>\n",
       "    </tr>\n",
       "    <tr>\n",
       "      <th>1961</th>\n",
       "      <td>-1.291522</td>\n",
       "      <td>1.063094</td>\n",
       "      <td>0.148473</td>\n",
       "      <td>-0.287392</td>\n",
       "      <td>-2.405416</td>\n",
       "      <td>-0.961888</td>\n",
       "    </tr>\n",
       "    <tr>\n",
       "      <th>3327</th>\n",
       "      <td>1.609486</td>\n",
       "      <td>-1.608451</td>\n",
       "      <td>0.100433</td>\n",
       "      <td>1.496007</td>\n",
       "      <td>0.258554</td>\n",
       "      <td>0.060975</td>\n",
       "    </tr>\n",
       "  </tbody>\n",
       "</table>\n",
       "</div>"
      ],
      "text/plain": [
       "      Temperature (C)  Humidity  Wind Speed (km/h)  Wind Bearing (degrees)  \\\n",
       "1302         0.639619  0.528785          -1.436829               -1.495197   \n",
       "449          0.696007 -0.302362          -0.374310               -0.240212   \n",
       "3978        -0.059587  1.241197          -0.278231               -1.589557   \n",
       "1961        -1.291522  1.063094           0.148473               -0.287392   \n",
       "3327         1.609486 -1.608451           0.100433                1.496007   \n",
       "\n",
       "      Visibility (km)  Pressure (millibars)  \n",
       "1302         0.082593             -0.951823  \n",
       "449          0.082593             -0.584448  \n",
       "3978        -1.795690              0.941668  \n",
       "1961        -2.405416             -0.961888  \n",
       "3327         0.258554              0.060975  "
      ]
     },
     "execution_count": 55,
     "metadata": {},
     "output_type": "execute_result"
    }
   ],
   "source": [
    "X_test_num_rescaled = pd.DataFrame(scaler.transform(X_test_num),\n",
    "                                   columns = X_test_num.columns,\n",
    "                                  index = X_test_num.index)\n",
    "X_test_num_rescaled.head()"
   ]
  },
  {
   "cell_type": "markdown",
   "id": "8c2c6ca6",
   "metadata": {},
   "source": [
    "## Applying OneHotEncoding on categorical columns "
   ]
  },
  {
   "cell_type": "code",
   "execution_count": 56,
   "id": "d95a3d7c",
   "metadata": {},
   "outputs": [
    {
     "data": {
      "text/html": [
       "<div>\n",
       "<style scoped>\n",
       "    .dataframe tbody tr th:only-of-type {\n",
       "        vertical-align: middle;\n",
       "    }\n",
       "\n",
       "    .dataframe tbody tr th {\n",
       "        vertical-align: top;\n",
       "    }\n",
       "\n",
       "    .dataframe thead th {\n",
       "        text-align: right;\n",
       "    }\n",
       "</style>\n",
       "<table border=\"1\" class=\"dataframe\">\n",
       "  <thead>\n",
       "    <tr style=\"text-align: right;\">\n",
       "      <th></th>\n",
       "      <th>Summary_Foggy</th>\n",
       "      <th>Summary_Humid and Mostly Cloudy</th>\n",
       "      <th>Summary_Humid and Partly Cloudy</th>\n",
       "      <th>Summary_Mostly Cloudy</th>\n",
       "      <th>Summary_Overcast</th>\n",
       "      <th>Summary_Partly Cloudy</th>\n",
       "      <th>Precip Type_snow</th>\n",
       "    </tr>\n",
       "  </thead>\n",
       "  <tbody>\n",
       "    <tr>\n",
       "      <th>1302</th>\n",
       "      <td>0.0</td>\n",
       "      <td>0.0</td>\n",
       "      <td>0.0</td>\n",
       "      <td>0.0</td>\n",
       "      <td>0.0</td>\n",
       "      <td>1.0</td>\n",
       "      <td>0.0</td>\n",
       "    </tr>\n",
       "    <tr>\n",
       "      <th>449</th>\n",
       "      <td>0.0</td>\n",
       "      <td>0.0</td>\n",
       "      <td>0.0</td>\n",
       "      <td>1.0</td>\n",
       "      <td>0.0</td>\n",
       "      <td>0.0</td>\n",
       "      <td>0.0</td>\n",
       "    </tr>\n",
       "    <tr>\n",
       "      <th>3978</th>\n",
       "      <td>1.0</td>\n",
       "      <td>0.0</td>\n",
       "      <td>0.0</td>\n",
       "      <td>0.0</td>\n",
       "      <td>0.0</td>\n",
       "      <td>0.0</td>\n",
       "      <td>0.0</td>\n",
       "    </tr>\n",
       "    <tr>\n",
       "      <th>1961</th>\n",
       "      <td>1.0</td>\n",
       "      <td>0.0</td>\n",
       "      <td>0.0</td>\n",
       "      <td>0.0</td>\n",
       "      <td>0.0</td>\n",
       "      <td>0.0</td>\n",
       "      <td>1.0</td>\n",
       "    </tr>\n",
       "    <tr>\n",
       "      <th>3327</th>\n",
       "      <td>0.0</td>\n",
       "      <td>0.0</td>\n",
       "      <td>0.0</td>\n",
       "      <td>0.0</td>\n",
       "      <td>0.0</td>\n",
       "      <td>1.0</td>\n",
       "      <td>0.0</td>\n",
       "    </tr>\n",
       "  </tbody>\n",
       "</table>\n",
       "</div>"
      ],
      "text/plain": [
       "      Summary_Foggy  Summary_Humid and Mostly Cloudy  \\\n",
       "1302            0.0                              0.0   \n",
       "449             0.0                              0.0   \n",
       "3978            1.0                              0.0   \n",
       "1961            1.0                              0.0   \n",
       "3327            0.0                              0.0   \n",
       "\n",
       "      Summary_Humid and Partly Cloudy  Summary_Mostly Cloudy  \\\n",
       "1302                              0.0                    0.0   \n",
       "449                               0.0                    1.0   \n",
       "3978                              0.0                    0.0   \n",
       "1961                              0.0                    0.0   \n",
       "3327                              0.0                    0.0   \n",
       "\n",
       "      Summary_Overcast  Summary_Partly Cloudy  Precip Type_snow  \n",
       "1302               0.0                    1.0               0.0  \n",
       "449                0.0                    0.0               0.0  \n",
       "3978               0.0                    0.0               0.0  \n",
       "1961               0.0                    0.0               1.0  \n",
       "3327               0.0                    1.0               0.0  "
      ]
     },
     "execution_count": 56,
     "metadata": {},
     "output_type": "execute_result"
    }
   ],
   "source": [
    "X_test_cat_ohe = pd.DataFrame(encoder.transform(X_test_cat),\n",
    "                             columns = encoder.get_feature_names_out(X_test_cat.columns),\n",
    "                             index = X_test_cat.index)\n",
    "X_test_cat_ohe.head()"
   ]
  },
  {
   "cell_type": "markdown",
   "id": "32983b58",
   "metadata": {},
   "source": [
    "## Concatinating the Encoded Categorical Features and Rescaled Numerical Features"
   ]
  },
  {
   "cell_type": "code",
   "execution_count": 57,
   "id": "ac251ce2",
   "metadata": {},
   "outputs": [
    {
     "data": {
      "text/html": [
       "<div>\n",
       "<style scoped>\n",
       "    .dataframe tbody tr th:only-of-type {\n",
       "        vertical-align: middle;\n",
       "    }\n",
       "\n",
       "    .dataframe tbody tr th {\n",
       "        vertical-align: top;\n",
       "    }\n",
       "\n",
       "    .dataframe thead th {\n",
       "        text-align: right;\n",
       "    }\n",
       "</style>\n",
       "<table border=\"1\" class=\"dataframe\">\n",
       "  <thead>\n",
       "    <tr style=\"text-align: right;\">\n",
       "      <th></th>\n",
       "      <th>Summary_Foggy</th>\n",
       "      <th>Summary_Humid and Mostly Cloudy</th>\n",
       "      <th>Summary_Humid and Partly Cloudy</th>\n",
       "      <th>Summary_Mostly Cloudy</th>\n",
       "      <th>Summary_Overcast</th>\n",
       "      <th>Summary_Partly Cloudy</th>\n",
       "      <th>Precip Type_snow</th>\n",
       "      <th>Temperature (C)</th>\n",
       "      <th>Humidity</th>\n",
       "      <th>Wind Speed (km/h)</th>\n",
       "      <th>Wind Bearing (degrees)</th>\n",
       "      <th>Visibility (km)</th>\n",
       "      <th>Pressure (millibars)</th>\n",
       "    </tr>\n",
       "  </thead>\n",
       "  <tbody>\n",
       "    <tr>\n",
       "      <th>1302</th>\n",
       "      <td>0.0</td>\n",
       "      <td>0.0</td>\n",
       "      <td>0.0</td>\n",
       "      <td>0.0</td>\n",
       "      <td>0.0</td>\n",
       "      <td>1.0</td>\n",
       "      <td>0.0</td>\n",
       "      <td>0.639619</td>\n",
       "      <td>0.528785</td>\n",
       "      <td>-1.436829</td>\n",
       "      <td>-1.495197</td>\n",
       "      <td>0.082593</td>\n",
       "      <td>-0.951823</td>\n",
       "    </tr>\n",
       "    <tr>\n",
       "      <th>449</th>\n",
       "      <td>0.0</td>\n",
       "      <td>0.0</td>\n",
       "      <td>0.0</td>\n",
       "      <td>1.0</td>\n",
       "      <td>0.0</td>\n",
       "      <td>0.0</td>\n",
       "      <td>0.0</td>\n",
       "      <td>0.696007</td>\n",
       "      <td>-0.302362</td>\n",
       "      <td>-0.374310</td>\n",
       "      <td>-0.240212</td>\n",
       "      <td>0.082593</td>\n",
       "      <td>-0.584448</td>\n",
       "    </tr>\n",
       "    <tr>\n",
       "      <th>3978</th>\n",
       "      <td>1.0</td>\n",
       "      <td>0.0</td>\n",
       "      <td>0.0</td>\n",
       "      <td>0.0</td>\n",
       "      <td>0.0</td>\n",
       "      <td>0.0</td>\n",
       "      <td>0.0</td>\n",
       "      <td>-0.059587</td>\n",
       "      <td>1.241197</td>\n",
       "      <td>-0.278231</td>\n",
       "      <td>-1.589557</td>\n",
       "      <td>-1.795690</td>\n",
       "      <td>0.941668</td>\n",
       "    </tr>\n",
       "    <tr>\n",
       "      <th>1961</th>\n",
       "      <td>1.0</td>\n",
       "      <td>0.0</td>\n",
       "      <td>0.0</td>\n",
       "      <td>0.0</td>\n",
       "      <td>0.0</td>\n",
       "      <td>0.0</td>\n",
       "      <td>1.0</td>\n",
       "      <td>-1.291522</td>\n",
       "      <td>1.063094</td>\n",
       "      <td>0.148473</td>\n",
       "      <td>-0.287392</td>\n",
       "      <td>-2.405416</td>\n",
       "      <td>-0.961888</td>\n",
       "    </tr>\n",
       "    <tr>\n",
       "      <th>3327</th>\n",
       "      <td>0.0</td>\n",
       "      <td>0.0</td>\n",
       "      <td>0.0</td>\n",
       "      <td>0.0</td>\n",
       "      <td>0.0</td>\n",
       "      <td>1.0</td>\n",
       "      <td>0.0</td>\n",
       "      <td>1.609486</td>\n",
       "      <td>-1.608451</td>\n",
       "      <td>0.100433</td>\n",
       "      <td>1.496007</td>\n",
       "      <td>0.258554</td>\n",
       "      <td>0.060975</td>\n",
       "    </tr>\n",
       "  </tbody>\n",
       "</table>\n",
       "</div>"
      ],
      "text/plain": [
       "      Summary_Foggy  Summary_Humid and Mostly Cloudy  \\\n",
       "1302            0.0                              0.0   \n",
       "449             0.0                              0.0   \n",
       "3978            1.0                              0.0   \n",
       "1961            1.0                              0.0   \n",
       "3327            0.0                              0.0   \n",
       "\n",
       "      Summary_Humid and Partly Cloudy  Summary_Mostly Cloudy  \\\n",
       "1302                              0.0                    0.0   \n",
       "449                               0.0                    1.0   \n",
       "3978                              0.0                    0.0   \n",
       "1961                              0.0                    0.0   \n",
       "3327                              0.0                    0.0   \n",
       "\n",
       "      Summary_Overcast  Summary_Partly Cloudy  Precip Type_snow  \\\n",
       "1302               0.0                    1.0               0.0   \n",
       "449                0.0                    0.0               0.0   \n",
       "3978               0.0                    0.0               0.0   \n",
       "1961               0.0                    0.0               1.0   \n",
       "3327               0.0                    1.0               0.0   \n",
       "\n",
       "      Temperature (C)  Humidity  Wind Speed (km/h)  Wind Bearing (degrees)  \\\n",
       "1302         0.639619  0.528785          -1.436829               -1.495197   \n",
       "449          0.696007 -0.302362          -0.374310               -0.240212   \n",
       "3978        -0.059587  1.241197          -0.278231               -1.589557   \n",
       "1961        -1.291522  1.063094           0.148473               -0.287392   \n",
       "3327         1.609486 -1.608451           0.100433                1.496007   \n",
       "\n",
       "      Visibility (km)  Pressure (millibars)  \n",
       "1302         0.082593             -0.951823  \n",
       "449          0.082593             -0.584448  \n",
       "3978        -1.795690              0.941668  \n",
       "1961        -2.405416             -0.961888  \n",
       "3327         0.258554              0.060975  "
      ]
     },
     "execution_count": 57,
     "metadata": {},
     "output_type": "execute_result"
    }
   ],
   "source": [
    "X_test_transformed = pd.concat([X_test_cat_ohe,X_test_num_rescaled],axis=1)\n",
    "X_test_transformed.head()"
   ]
  },
  {
   "cell_type": "markdown",
   "id": "4e3c9036",
   "metadata": {},
   "source": [
    "# Model Training "
   ]
  },
  {
   "cell_type": "markdown",
   "id": "278a9651",
   "metadata": {},
   "source": [
    "## Linear Regression"
   ]
  },
  {
   "cell_type": "code",
   "execution_count": 58,
   "id": "d90e735e",
   "metadata": {},
   "outputs": [
    {
     "data": {
      "text/html": [
       "<style>#sk-container-id-1 {color: black;background-color: white;}#sk-container-id-1 pre{padding: 0;}#sk-container-id-1 div.sk-toggleable {background-color: white;}#sk-container-id-1 label.sk-toggleable__label {cursor: pointer;display: block;width: 100%;margin-bottom: 0;padding: 0.3em;box-sizing: border-box;text-align: center;}#sk-container-id-1 label.sk-toggleable__label-arrow:before {content: \"▸\";float: left;margin-right: 0.25em;color: #696969;}#sk-container-id-1 label.sk-toggleable__label-arrow:hover:before {color: black;}#sk-container-id-1 div.sk-estimator:hover label.sk-toggleable__label-arrow:before {color: black;}#sk-container-id-1 div.sk-toggleable__content {max-height: 0;max-width: 0;overflow: hidden;text-align: left;background-color: #f0f8ff;}#sk-container-id-1 div.sk-toggleable__content pre {margin: 0.2em;color: black;border-radius: 0.25em;background-color: #f0f8ff;}#sk-container-id-1 input.sk-toggleable__control:checked~div.sk-toggleable__content {max-height: 200px;max-width: 100%;overflow: auto;}#sk-container-id-1 input.sk-toggleable__control:checked~label.sk-toggleable__label-arrow:before {content: \"▾\";}#sk-container-id-1 div.sk-estimator input.sk-toggleable__control:checked~label.sk-toggleable__label {background-color: #d4ebff;}#sk-container-id-1 div.sk-label input.sk-toggleable__control:checked~label.sk-toggleable__label {background-color: #d4ebff;}#sk-container-id-1 input.sk-hidden--visually {border: 0;clip: rect(1px 1px 1px 1px);clip: rect(1px, 1px, 1px, 1px);height: 1px;margin: -1px;overflow: hidden;padding: 0;position: absolute;width: 1px;}#sk-container-id-1 div.sk-estimator {font-family: monospace;background-color: #f0f8ff;border: 1px dotted black;border-radius: 0.25em;box-sizing: border-box;margin-bottom: 0.5em;}#sk-container-id-1 div.sk-estimator:hover {background-color: #d4ebff;}#sk-container-id-1 div.sk-parallel-item::after {content: \"\";width: 100%;border-bottom: 1px solid gray;flex-grow: 1;}#sk-container-id-1 div.sk-label:hover label.sk-toggleable__label {background-color: #d4ebff;}#sk-container-id-1 div.sk-serial::before {content: \"\";position: absolute;border-left: 1px solid gray;box-sizing: border-box;top: 0;bottom: 0;left: 50%;z-index: 0;}#sk-container-id-1 div.sk-serial {display: flex;flex-direction: column;align-items: center;background-color: white;padding-right: 0.2em;padding-left: 0.2em;position: relative;}#sk-container-id-1 div.sk-item {position: relative;z-index: 1;}#sk-container-id-1 div.sk-parallel {display: flex;align-items: stretch;justify-content: center;background-color: white;position: relative;}#sk-container-id-1 div.sk-item::before, #sk-container-id-1 div.sk-parallel-item::before {content: \"\";position: absolute;border-left: 1px solid gray;box-sizing: border-box;top: 0;bottom: 0;left: 50%;z-index: -1;}#sk-container-id-1 div.sk-parallel-item {display: flex;flex-direction: column;z-index: 1;position: relative;background-color: white;}#sk-container-id-1 div.sk-parallel-item:first-child::after {align-self: flex-end;width: 50%;}#sk-container-id-1 div.sk-parallel-item:last-child::after {align-self: flex-start;width: 50%;}#sk-container-id-1 div.sk-parallel-item:only-child::after {width: 0;}#sk-container-id-1 div.sk-dashed-wrapped {border: 1px dashed gray;margin: 0 0.4em 0.5em 0.4em;box-sizing: border-box;padding-bottom: 0.4em;background-color: white;}#sk-container-id-1 div.sk-label label {font-family: monospace;font-weight: bold;display: inline-block;line-height: 1.2em;}#sk-container-id-1 div.sk-label-container {text-align: center;}#sk-container-id-1 div.sk-container {/* jupyter's `normalize.less` sets `[hidden] { display: none; }` but bootstrap.min.css set `[hidden] { display: none !important; }` so we also need the `!important` here to be able to override the default hidden behavior on the sphinx rendered scikit-learn.org. See: https://github.com/scikit-learn/scikit-learn/issues/21755 */display: inline-block !important;position: relative;}#sk-container-id-1 div.sk-text-repr-fallback {display: none;}</style><div id=\"sk-container-id-1\" class=\"sk-top-container\"><div class=\"sk-text-repr-fallback\"><pre>LinearRegression()</pre><b>In a Jupyter environment, please rerun this cell to show the HTML representation or trust the notebook. <br />On GitHub, the HTML representation is unable to render, please try loading this page with nbviewer.org.</b></div><div class=\"sk-container\" hidden><div class=\"sk-item\"><div class=\"sk-estimator sk-toggleable\"><input class=\"sk-toggleable__control sk-hidden--visually\" id=\"sk-estimator-id-1\" type=\"checkbox\" checked><label for=\"sk-estimator-id-1\" class=\"sk-toggleable__label sk-toggleable__label-arrow\">LinearRegression</label><div class=\"sk-toggleable__content\"><pre>LinearRegression()</pre></div></div></div></div></div>"
      ],
      "text/plain": [
       "LinearRegression()"
      ]
     },
     "execution_count": 58,
     "metadata": {},
     "output_type": "execute_result"
    }
   ],
   "source": [
    "from sklearn.linear_model import LinearRegression\n",
    "regressor = LinearRegression()\n",
    "regressor.fit(X_train_transformed,y_train)"
   ]
  },
  {
   "cell_type": "code",
   "execution_count": 63,
   "id": "435ed5d7",
   "metadata": {},
   "outputs": [],
   "source": [
    "y_test_pred = regressor.predict(X_test_transformed)"
   ]
  },
  {
   "cell_type": "code",
   "execution_count": 64,
   "id": "d6a8290f",
   "metadata": {},
   "outputs": [
    {
     "data": {
      "text/html": [
       "<div>\n",
       "<style scoped>\n",
       "    .dataframe tbody tr th:only-of-type {\n",
       "        vertical-align: middle;\n",
       "    }\n",
       "\n",
       "    .dataframe tbody tr th {\n",
       "        vertical-align: top;\n",
       "    }\n",
       "\n",
       "    .dataframe thead th {\n",
       "        text-align: right;\n",
       "    }\n",
       "</style>\n",
       "<table border=\"1\" class=\"dataframe\">\n",
       "  <thead>\n",
       "    <tr style=\"text-align: right;\">\n",
       "      <th></th>\n",
       "      <th>Actual</th>\n",
       "      <th>Predicted</th>\n",
       "    </tr>\n",
       "  </thead>\n",
       "  <tbody>\n",
       "    <tr>\n",
       "      <th>1302</th>\n",
       "      <td>17.244444</td>\n",
       "      <td>17.795025</td>\n",
       "    </tr>\n",
       "    <tr>\n",
       "      <th>449</th>\n",
       "      <td>17.827778</td>\n",
       "      <td>17.965339</td>\n",
       "    </tr>\n",
       "    <tr>\n",
       "      <th>3978</th>\n",
       "      <td>10.011111</td>\n",
       "      <td>9.062425</td>\n",
       "    </tr>\n",
       "    <tr>\n",
       "      <th>1961</th>\n",
       "      <td>-6.688889</td>\n",
       "      <td>-5.922908</td>\n",
       "    </tr>\n",
       "    <tr>\n",
       "      <th>3327</th>\n",
       "      <td>27.744444</td>\n",
       "      <td>27.874806</td>\n",
       "    </tr>\n",
       "  </tbody>\n",
       "</table>\n",
       "</div>"
      ],
      "text/plain": [
       "         Actual  Predicted\n",
       "1302  17.244444  17.795025\n",
       "449   17.827778  17.965339\n",
       "3978  10.011111   9.062425\n",
       "1961  -6.688889  -5.922908\n",
       "3327  27.744444  27.874806"
      ]
     },
     "execution_count": 64,
     "metadata": {},
     "output_type": "execute_result"
    }
   ],
   "source": [
    "temp_df = pd.DataFrame({'Actual':y_test,'Predicted':y_test_pred})\n",
    "temp_df.head()"
   ]
  },
  {
   "cell_type": "code",
   "execution_count": 65,
   "id": "96492180",
   "metadata": {},
   "outputs": [
    {
     "data": {
      "image/png": "[encoded data removed]",
      "text/plain": [
       "<Figure size 500x500 with 1 Axes>"
      ]
     },
     "metadata": {},
     "output_type": "display_data"
    }
   ],
   "source": [
    "residual = y_test-y_test_pred\n",
    "sns.displot(residual, kind='kde');"
   ]
  },
  {
   "cell_type": "code",
   "execution_count": 66,
   "id": "276bf87a",
   "metadata": {},
   "outputs": [
    {
     "name": "stdout",
     "output_type": "stream",
     "text": [
      "Mean absolute error:  0.8053882417287537\n",
      "Mean squared error:  1.0248971907667348\n",
      "Root mean squared error:  1.012372061431337\n",
      "coefficient of determination:  0.99410735074302\n"
     ]
    }
   ],
   "source": [
    "from sklearn import metrics\n",
    "print('Mean absolute error: ',metrics.mean_absolute_error(y_test,y_test_pred))\n",
    "print('Mean squared error: ',metrics.mean_squared_error(y_test,y_test_pred))\n",
    "print('Root mean squared error: ',np.sqrt(metrics.mean_squared_error(y_test,y_test_pred)))\n",
    "print('coefficient of determination: ',metrics.r2_score(y_test,y_test_pred))"
   ]
  },
  {
   "cell_type": "code",
   "execution_count": 59,
   "id": "e5772dab",
   "metadata": {},
   "outputs": [],
   "source": [
    "y_train_pred = regressor.predict(X_train_transformed)"
   ]
  },
  {
   "cell_type": "code",
   "execution_count": 60,
   "id": "c8403ef9",
   "metadata": {},
   "outputs": [
    {
     "data": {
      "image/png": "[encoded data removed]",
      "text/plain": [
       "<Figure size 500x500 with 1 Axes>"
      ]
     },
     "metadata": {},
     "output_type": "display_data"
    }
   ],
   "source": [
    "residual = y_train-y_train_pred\n",
    "sns.displot(residual, kind='kde');"
   ]
  },
  {
   "cell_type": "code",
   "execution_count": 61,
   "id": "d35b8595",
   "metadata": {},
   "outputs": [
    {
     "data": {
      "text/html": [
       "<div>\n",
       "<style scoped>\n",
       "    .dataframe tbody tr th:only-of-type {\n",
       "        vertical-align: middle;\n",
       "    }\n",
       "\n",
       "    .dataframe tbody tr th {\n",
       "        vertical-align: top;\n",
       "    }\n",
       "\n",
       "    .dataframe thead th {\n",
       "        text-align: right;\n",
       "    }\n",
       "</style>\n",
       "<table border=\"1\" class=\"dataframe\">\n",
       "  <thead>\n",
       "    <tr style=\"text-align: right;\">\n",
       "      <th></th>\n",
       "      <th>Actual</th>\n",
       "      <th>Predicted</th>\n",
       "    </tr>\n",
       "  </thead>\n",
       "  <tbody>\n",
       "    <tr>\n",
       "      <th>413</th>\n",
       "      <td>16.016667</td>\n",
       "      <td>16.320505</td>\n",
       "    </tr>\n",
       "    <tr>\n",
       "      <th>1724</th>\n",
       "      <td>-6.388889</td>\n",
       "      <td>-5.582420</td>\n",
       "    </tr>\n",
       "    <tr>\n",
       "      <th>2378</th>\n",
       "      <td>-6.033333</td>\n",
       "      <td>-4.834004</td>\n",
       "    </tr>\n",
       "    <tr>\n",
       "      <th>5027</th>\n",
       "      <td>5.583333</td>\n",
       "      <td>5.688294</td>\n",
       "    </tr>\n",
       "    <tr>\n",
       "      <th>4</th>\n",
       "      <td>6.977778</td>\n",
       "      <td>7.547395</td>\n",
       "    </tr>\n",
       "  </tbody>\n",
       "</table>\n",
       "</div>"
      ],
      "text/plain": [
       "         Actual  Predicted\n",
       "413   16.016667  16.320505\n",
       "1724  -6.388889  -5.582420\n",
       "2378  -6.033333  -4.834004\n",
       "5027   5.583333   5.688294\n",
       "4      6.977778   7.547395"
      ]
     },
     "execution_count": 61,
     "metadata": {},
     "output_type": "execute_result"
    }
   ],
   "source": [
    "temp_df = pd.DataFrame({'Actual':y_train,'Predicted':y_train_pred})\n",
    "temp_df.head()"
   ]
  },
  {
   "cell_type": "code",
   "execution_count": 62,
   "id": "b401fffd",
   "metadata": {},
   "outputs": [
    {
     "name": "stdout",
     "output_type": "stream",
     "text": [
      "Mean absolute error: 0.8255144637735794\n",
      "Mean squared error:  1.068348197493822\n",
      "Root mean squared error:  1.0336093060212945\n",
      "coefficient of determination:  0.9921806903698698\n"
     ]
    }
   ],
   "source": [
    "from sklearn import metrics\n",
    "print('Mean absolute error:',metrics.mean_absolute_error(y_train,y_train_pred))\n",
    "print('Mean squared error: ',metrics.mean_squared_error(y_train,y_train_pred))\n",
    "print('Root mean squared error: ',np.sqrt(metrics.mean_squared_error(y_train,y_train_pred)))\n",
    "print('coefficient of determination: ',metrics.r2_score(y_train,y_train_pred))"
   ]
  },
  {
   "cell_type": "markdown",
   "id": "35eb8850",
   "metadata": {},
   "source": [
    "### As compared to train and test data, I got less error on test data i.e.,Mean absolute error "
   ]
  },
  {
   "cell_type": "code",
   "execution_count": null,
   "id": "693ef7e3",
   "metadata": {},
   "outputs": [],
   "source": []
  }
 ],
 "metadata": {
  "kernelspec": {
   "display_name": "Python 3 (ipykernel)",
   "language": "python",
   "name": "python3"
  },
  "language_info": {
   "codemirror_mode": {
    "name": "ipython",
    "version": 3
   },
   "file_extension": ".py",
   "mimetype": "text/x-python",
   "name": "python",
   "nbconvert_exporter": "python",
   "pygments_lexer": "ipython3",
   "version": "3.9.13"
  }
 },
 "nbformat": 4,
 "nbformat_minor": 5
}
