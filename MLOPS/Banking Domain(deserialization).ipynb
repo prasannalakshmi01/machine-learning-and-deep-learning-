{
 "cells": [
  {
   "cell_type": "code",
   "execution_count": 1,
   "metadata": {},
   "outputs": [],
   "source": [
    "import numpy as np\n",
    "from pickle import load"
   ]
  },
  {
   "cell_type": "code",
   "execution_count": null,
   "metadata": {},
   "outputs": [],
   "source": [
    "from pickle import load\n",
    "ohe =load(open('models/one_hot_encoding.pkl', 'rb'))\n",
    "scaler=load(open('models/standard_scaler.pkl','rb'))\n",
    "label_enc=load(open('models/grade.pkl','rb'))\n",
    "\n",
    "\n",
    "knn_classifier = load(open('models/knn_model.pkl', 'rb'))\n",
    "lr_classifier = load(open('models/lr_model.pkl', 'rb'))\n",
    "dt_classifier = load(open('models/dt_model.pkl', 'rb'))\n",
    "sv_classifier = load(open('models/sv_model.pkl', 'rb'))\n",
    "rf_classifier = load(open('models/rf_model.pkl', 'rb'))"
   ]
  },
  {
   "cell_type": "code",
   "execution_count": null,
   "metadata": {},
   "outputs": [
    {
     "name": "stdout",
     "output_type": "stream",
     "text": [
      "Enter Banking Details\n"
     ]
    }
   ],
   "source": [
    "# Read the Query Data\n",
    "\n",
    "print(\"Enter Banking Details\")\n",
    "age = float(input('Enter the Person Age: '))\n",
    "income = float(input('Enter the Person Income: '))\n",
    "emp_length = float(input('Enter the Person Employee Length: '))\n",
    "loan_amt = float(input('Enter the Loan Amount: '))\n",
    "loan_int_rate= float(input('Enter the Loan Interest Rate: '))\n",
    "loan_percent_income= float(input('Enter the Loan Percent Income: '))\n",
    "cb_person_cred_hist_length= float(input('Enter Person Credit History Length: '))\n",
    "person_home_ownership=input('Enter Person Home Ownership: ')\n",
    "loan_intent=input('Enter Loan Intent: ')\n",
    "loan_grade=input('Enter Loan Grade: ')\n",
    "cb_person_default_on_file=input('Enter Historic Default: ')"
   ]
  },
  {
   "cell_type": "code",
   "execution_count": null,
   "metadata": {},
   "outputs": [
    {
     "name": "stdout",
     "output_type": "stream",
     "text": [
      "21.0 9600.0 5.0 1000.0 11.14 0.1 2.0 OWN EDUCATION B N\n"
     ]
    }
   ],
   "source": [
    "print(age,income,emp_length,loan_amt,loan_int_rate,loan_percent_income,cb_person_cred_hist_length,person_home_ownership,loan_intent,loan_grade,cb_person_default_on_file)"
   ]
  },
  {
   "cell_type": "code",
   "execution_count": null,
   "metadata": {},
   "outputs": [],
   "source": [
    "query_point = np.array([age,income,emp_length,loan_amt,loan_int_rate,loan_percent_income,cb_person_cred_hist_length]).reshape(1, -1)"
   ]
  },
  {
   "cell_type": "code",
   "execution_count": null,
   "metadata": {},
   "outputs": [],
   "source": [
    "# query_point=query_point.astype(int)"
   ]
  },
  {
   "cell_type": "code",
   "execution_count": null,
   "metadata": {},
   "outputs": [],
   "source": [
    "query_point_transformed = scaler.transform(query_point)"
   ]
  },
  {
   "cell_type": "code",
   "execution_count": null,
   "metadata": {},
   "outputs": [],
   "source": [
    "query_point_ohe=np.array([person_home_ownership,loan_intent,\n",
    "       cb_person_default_on_file]).reshape(1,-1)"
   ]
  },
  {
   "cell_type": "code",
   "execution_count": null,
   "metadata": {},
   "outputs": [
    {
     "data": {
      "text/plain": [
       "array([['OWN', 'EDUCATION', 'N']], dtype='<U9')"
      ]
     },
     "metadata": {},
     "output_type": "display_data"
    }
   ],
   "source": [
    "query_point_ohe"
   ]
  },
  {
   "cell_type": "code",
   "execution_count": null,
   "metadata": {},
   "outputs": [],
   "source": [
    "query_point_transformed_ohe = ohe.transform(query_point_ohe)"
   ]
  },
  {
   "cell_type": "code",
   "execution_count": null,
   "metadata": {},
   "outputs": [],
   "source": [
    "query_point_transformed_ohe=query_point_transformed_ohe.astype(int)"
   ]
  },
  {
   "cell_type": "code",
   "execution_count": null,
   "metadata": {},
   "outputs": [
    {
     "name": "stdout",
     "output_type": "stream",
     "text": [
      "[0 1 0 1 0 0 0 0 0]\n"
     ]
    }
   ],
   "source": [
    "for i in query_point_transformed_ohe:\n",
    "    print(i)"
   ]
  },
  {
   "cell_type": "code",
   "execution_count": null,
   "metadata": {},
   "outputs": [
    {
     "data": {
      "text/plain": [
       "array([[0, 1, 0, 1, 0, 0, 0, 0, 0]])"
      ]
     },
     "metadata": {},
     "output_type": "display_data"
    }
   ],
   "source": [
    "query_point_transformed_ohe"
   ]
  },
  {
   "cell_type": "code",
   "execution_count": null,
   "metadata": {},
   "outputs": [
    {
     "name": "stdout",
     "output_type": "stream",
     "text": [
      "{'G': 7, 'F': 6, 'E': 5, 'D': 4, 'C': 3, 'B': 2, 'A': 1}\n"
     ]
    }
   ],
   "source": [
    "# label encoder\n",
    "print(grade_encoder)"
   ]
  },
  {
   "cell_type": "code",
   "execution_count": null,
   "metadata": {},
   "outputs": [
    {
     "name": "stdout",
     "output_type": "stream",
     "text": [
      "B 2\n"
     ]
    }
   ],
   "source": [
    "loan_grade_transformed=[]\n",
    "for i in grade_encoder:\n",
    "    if i in loan_grade:\n",
    "        print(loan_grade,grade_encoder[i])\n",
    "        loan_grade_transformed.append(grade_encoder[i])\n"
   ]
  },
  {
   "cell_type": "code",
   "execution_count": null,
   "metadata": {},
   "outputs": [
    {
     "data": {
      "text/plain": [
       "array([[2]])"
      ]
     },
     "metadata": {},
     "output_type": "display_data"
    }
   ],
   "source": [
    "query_point_lb = np.array([loan_grade_transformed[0]]).reshape(1,-1)\n",
    "query_point_lb"
   ]
  },
  {
   "cell_type": "code",
   "execution_count": null,
   "metadata": {},
   "outputs": [],
   "source": [
    "new_query_point=np.append(query_point,query_point_transformed_ohe).reshape(1,-1)"
   ]
  },
  {
   "cell_type": "code",
   "execution_count": null,
   "metadata": {},
   "outputs": [],
   "source": [
    "new_query_point1=np.append(new_query_point,query_point_lb).reshape(1,-1)"
   ]
  },
  {
   "cell_type": "code",
   "execution_count": null,
   "metadata": {},
   "outputs": [
    {
     "name": "stdout",
     "output_type": "stream",
     "text": [
      "(1, 7) <class 'numpy.ndarray'>\n",
      "(1, 3) <class 'numpy.ndarray'>\n",
      "(1, 1) <class 'numpy.ndarray'>\n"
     ]
    }
   ],
   "source": [
    "print(query_point.shape,type(query_point))\n",
    "print(query_point_ohe.shape,type(query_point_ohe))\n",
    "print(query_point_lb.shape,type(query_point_lb))\n"
   ]
  },
  {
   "attachments": {},
   "cell_type": "markdown",
   "metadata": {},
   "source": [
    "## Prediction"
   ]
  },
  {
   "cell_type": "code",
   "execution_count": null,
   "metadata": {},
   "outputs": [
    {
     "name": "stdout",
     "output_type": "stream",
     "text": [
      "Non Default\n"
     ]
    }
   ],
   "source": [
    "pre=rf_classifier.predict(new_query_point1)\n",
    "if pre==0:\n",
    "    print(\"Non Default\")\n",
    "else:\n",
    "    print(\"default\")"
   ]
  }
 ],
 "metadata": {
  "kernelspec": {
   "display_name": "Python 3",
   "language": "python",
   "name": "python3"
  },
  "language_info": {
   "codemirror_mode": {
    "name": "ipython",
    "version": 3
   },
   "file_extension": ".py",
   "mimetype": "text/x-python",
   "name": "python",
   "nbconvert_exporter": "python",
   "pygments_lexer": "ipython3",
   "version": "3.10.11"
  },
  "orig_nbformat": 4
 },
 "nbformat": 4,
 "nbformat_minor": 2
}
